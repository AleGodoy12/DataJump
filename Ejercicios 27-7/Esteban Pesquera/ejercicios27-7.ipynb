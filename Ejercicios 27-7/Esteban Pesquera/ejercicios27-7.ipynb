{
 "cells": [
  {
   "cell_type": "code",
   "execution_count": 4,
   "metadata": {},
   "outputs": [
    {
     "name": "stdout",
     "output_type": "stream",
     "text": [
      "9\n",
      "8\n",
      "7\n",
      "6\n",
      "5\n",
      "4\n",
      "3\n",
      "2\n",
      "1\n"
     ]
    }
   ],
   "source": [
    "\n",
    "#1.- Escribir un programa que pregunte al usuario su edad\n",
    "#y muestre por pantalla todos los años que ha cumplido (desde 1 hasta su edad).\n",
    "\n",
    "edad = int(input(\"indique su edad, solo numeros\"))\n",
    "i= 0\n",
    "\n",
    "while (i<edad):\n",
    "    print(edad)\n",
    "    edad -= 1\n",
    "\n",
    "\n"
   ]
  },
  {
   "cell_type": "code",
   "execution_count": 5,
   "metadata": {},
   "outputs": [
    {
     "name": "stdout",
     "output_type": "stream",
     "text": [
      "4,3,2,1,"
     ]
    }
   ],
   "source": [
    "#2.- Escribir un programa que pida al usuario un número entero positivo y muestre\n",
    "#  por pantalla la cuenta atrás desde ese número hasta cero separados por comas\n",
    "\n",
    "numero = int(input(\"indique un numero\"))\n",
    "i=0\n",
    "\n",
    "while i<numero:\n",
    "    print(numero, end=\",\")\n",
    "    numero -= 1\n"
   ]
  },
  {
   "cell_type": "code",
   "execution_count": 8,
   "metadata": {},
   "outputs": [
    {
     "name": "stdout",
     "output_type": "stream",
     "text": [
      "sus ganancias anuales son de 375.0\n"
     ]
    }
   ],
   "source": [
    "#3.- Escribir un programa que pregunte al usuario una cantidad a invertir, el interés anual y el número de años,\n",
    "# y muestre por pantalla el capital obtenido en la inversión cada año que dura la inversión.\n",
    "\n",
    "inversion = int(input(\"indique su inversion en numeros\"))\n",
    "interes_anual = int(input(\"indique el interes anual, solo numeros\"))\n",
    "años = int(input(\"indique el numero de años\"))\n",
    "\n",
    "capital_obtenido_anual = (inversion * (interes_anual/100) * años) + inversion\n",
    "\n",
    "print(\"su capital obtenido es\" + str(capital_obtenido_anual))\n"
   ]
  },
  {
   "cell_type": "code",
   "execution_count": 14,
   "metadata": {},
   "outputs": [
    {
     "name": "stdout",
     "output_type": "stream",
     "text": [
      "Es primo\n"
     ]
    }
   ],
   "source": [
    "#4.- Escribir un programa que pida al usuario un número entero y muestre por pantalla si es un número primo o no.\n",
    "numero_user = int(input(\"ingrese un numero\"))\n",
    "contador = 0\n",
    "for i in range(2,numero_user):\n",
    "    resto=numero_user%i\n",
    "    if (resto==0):\n",
    "        contador +=1\n",
    "if (contador>=1):\n",
    "    print(\"No es primo\")\n",
    "else:\n",
    "    print(\"Es primo\")"
   ]
  },
  {
   "cell_type": "code",
   "execution_count": 18,
   "metadata": {},
   "outputs": [
    {
     "name": "stdout",
     "output_type": "stream",
     "text": [
      "a,l,o,h,"
     ]
    }
   ],
   "source": [
    "#5.- Escribir un programa que pida al usuario una palabra y luego muestre por pantalla\n",
    "#  una a una las letras de la palabra introducida empezando por la última.\n",
    "\n",
    "palabra = input(\"escriba una palabra\")\n",
    "\n",
    "for letra in reversed(palabra):\n",
    "    print (letra, end=\",\")\n"
   ]
  },
  {
   "cell_type": "code",
   "execution_count": 22,
   "metadata": {},
   "outputs": [
    {
     "name": "stdout",
     "output_type": "stream",
     "text": [
      "y se muestra en la consola\n",
      "lo que quiero escribir\n",
      "y para finalizar\n",
      "tengo que presionar\n",
      "salir\n"
     ]
    }
   ],
   "source": [
    "#6.- Escribir un programa que muestre todo lo que el usuario introduzca\n",
    "#  hasta que el usuario escriba “salir” que terminará.\n",
    "\n",
    "palabra = input(\"Escribe lo que quieras, al escribir salir, el programa finalizará\")\n",
    "\n",
    "while (palabra != \"salir\"):\n",
    "    palabra = input(\"Escribe lo que quieras, al escribir salir, el programa finalizará\")\n",
    "    print(palabra)"
   ]
  },
  {
   "cell_type": "code",
   "execution_count": 56,
   "metadata": {},
   "outputs": [
    {
     "name": "stdout",
     "output_type": "stream",
     "text": [
      "78.53981633974483\n",
      "<function volumen at 0x00000172B1A21F30>\n"
     ]
    }
   ],
   "source": [
    "#7.- Escribir una función que calcule el área de un círculo\n",
    "# y otra que calcule el volumen de un cilindro usando la primera función\n",
    "\n",
    "import math\n",
    "def area():\n",
    "    r = float(input(\"ingrese el radio del circulo: \"))\n",
    "    return (math.pi * (r * r))\n",
    "area_circulo = area()\n",
    "print(area_circulo)\n",
    "\n",
    "\n",
    "\n",
    "def volumen():\n",
    "    altura=float(input(\"Ingrese la altura de su cilindro: \"))\n",
    "    return (area_circulo * altura)\n",
    "user_volumen = volumen\n",
    "print(user_volumen)\n",
    "#revisar"
   ]
  },
  {
   "cell_type": "code",
   "execution_count": 61,
   "metadata": {},
   "outputs": [],
   "source": [
    "#8.- Escribir una función que reciba un número\n",
    "# entero positivo y devuelva su factorial\n",
    "\n",
    "def factorial(numeroF):\n",
    "    if numeroF == 0 or numeroF ==1:\n",
    "        resultado = 1\n",
    "        print(resultado)\n",
    "        return numeroF\n",
    "    elif numeroF>1:\n",
    "        resultado = numeroF * (factorial(numeroF-1))\n",
    "        print(resultado)\n",
    "        return resultado\n",
    "#revisar\n",
    "    \n"
   ]
  },
  {
   "cell_type": "code",
   "execution_count": 62,
   "metadata": {},
   "outputs": [
    {
     "name": "stdout",
     "output_type": "stream",
     "text": [
      "5.5\n"
     ]
    }
   ],
   "source": [
    "#9.- Escribir una función que reciba una muestra de números en una lista y devuelva su media.\n",
    "\n",
    "def media(lista_numeros):\n",
    "    cantidad=len(lista_numeros)\n",
    "    suma = 0\n",
    "    for i in lista_numeros:\n",
    "        suma+= i\n",
    "        media=suma/cantidad\n",
    "        return media\n",
    "\n",
    "\n",
    "lista=[22,33,44,55]\n",
    "media1= media(lista)\n",
    "print (media1)\n"
   ]
  },
  {
   "cell_type": "code",
   "execution_count": 63,
   "metadata": {},
   "outputs": [
    {
     "name": "stdout",
     "output_type": "stream",
     "text": [
      "¡hola amiga!\n",
      "None\n"
     ]
    }
   ],
   "source": [
    "#Escribir una función\n",
    "#  que muestre por pantalla el saludo ¡Hola amiga! cada vez que se la invoque.\n",
    "\n",
    "\n",
    "def saludar():\n",
    "    saludo = print(\"¡hola amiga!\")\n",
    "    return saludo\n",
    "\n",
    "print(saludar())"
   ]
  },
  {
   "cell_type": "code",
   "execution_count": null,
   "metadata": {},
   "outputs": [],
   "source": []
  }
 ],
 "metadata": {
  "kernelspec": {
   "display_name": "Python 3.10.5 64-bit",
   "language": "python",
   "name": "python3"
  },
  "language_info": {
   "codemirror_mode": {
    "name": "ipython",
    "version": 3
   },
   "file_extension": ".py",
   "mimetype": "text/x-python",
   "name": "python",
   "nbconvert_exporter": "python",
   "pygments_lexer": "ipython3",
   "version": "3.10.5"
  },
  "orig_nbformat": 4,
  "vscode": {
   "interpreter": {
    "hash": "98fa02a8c884382a90c52caa7e7b88891612be484f9b34d4c4e4bfd155aeec17"
   }
  }
 },
 "nbformat": 4,
 "nbformat_minor": 2
}
