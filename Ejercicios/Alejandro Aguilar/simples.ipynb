{
 "cells": [
  {
   "cell_type": "code",
   "execution_count": 18,
   "id": "713d6219-8e24-419c-aaf9-c07546e4e491",
   "metadata": {},
   "outputs": [
    {
     "name": "stdout",
     "output_type": "stream",
     "text": [
      "Hola mundo\n",
      "Hola mundo\n"
     ]
    },
    {
     "name": "stdin",
     "output_type": "stream",
     "text": [
      "Ingrese la cantidad de horas trabajadas  5\n",
      "Ingrese cuanto cobra por hora  5\n"
     ]
    },
    {
     "name": "stdout",
     "output_type": "stream",
     "text": [
      "Su sueldo es: $ 25.0\n"
     ]
    },
    {
     "name": "stdin",
     "output_type": "stream",
     "text": [
      "Ingrese su altura (en metros)  5\n",
      "Ingrese su peso (en kilogramos)  5\n"
     ]
    },
    {
     "name": "stdout",
     "output_type": "stream",
     "text": [
      "Su IDMC es:  0.2\n"
     ]
    },
    {
     "name": "stdin",
     "output_type": "stream",
     "text": [
      "Ingrese la cantidad de pan vendido NO frescas  5\n"
     ]
    },
    {
     "name": "stdout",
     "output_type": "stream",
     "text": [
      "Barras de pan por  5\n",
      "Precio de barra de pan =  3.49 €\n",
      "Descuento sobre el precio\n",
      "Precio total=  10.47 €\n"
     ]
    }
   ],
   "source": [
    "###Ejercicios Tipo de datos simples:\n",
    "\n",
    "#1.- Escribir un programa que muestre por pantalla la cadena ¡Hola Mundo!.\n",
    "print (\"Hola mundo\")\n",
    "#2.-  Escribir un programa que almacene la cadena ¡Hola Mundo! en una variable y luego muestre por pantalla el contenido de la variable.\n",
    "a= \"Hola mundo\"\n",
    "print (a)\n",
    "#3.- Escribir un programa que pregunte al usuario por el número de horas trabajadas y el coste por hora. Después debe mostrar por pantalla la paga que le corresponde\n",
    "horasTrab=float(input(\"Ingrese la cantidad de horas trabajadas \"))\n",
    "precioPorHora=float(input(\"Ingrese cuanto cobra por hora \"))\n",
    "paga= horas*precio \n",
    "print(\"Su sueldo es: $\", sueldo)\n",
    "#4.- Escribir un programa que pida al usuario su peso (en kg) y estatura (en metros), calcule el índice de masa corporal y lo almacene en una variable, y muestre por pantalla la frase Tu índice de masa corporal es donde es el índice de masa corporal calculado redondeado con dos decimales\n",
    "altura=float(input(\"Ingrese su altura (en metros) \"))\n",
    "peso=float(input(\"Ingrese su peso (en kilogramos) \"))\n",
    "indice= peso/(altura**2) \n",
    "aprox= round(indice, 2)\n",
    "print(\"Su IDMC es: \", aprox)\n",
    "\n",
    "#5.- Una panadería vende barras de pan a 3.49€ cada una. El pan que no es el día tiene un descuento del 60%. Escribir un programa que comience leyendo el número de barras vendidas que no son del día. Después el programa debe mostrar el precio habitual de una barra de pan, el descuento que se le hace por no ser fresca y el coste final total\n",
    "barrasDePan = 3.49\n",
    "cant=int(input(\"Ingrese la cantidad de pan vendido NO frescas \"))\n",
    "precio = cant*barrasDePan\n",
    "precioConDesc= precio*60/100\n",
    "aprox= round(precioConDesc, 2)\n",
    "print(\"Barras de pan por \", cant )\n",
    "print(\"Precio de barra de pan = \", barrasDePan,\"€\")\n",
    "print(\"Descuento sobre el precio\")\n",
    "print(\"Precio total= \", aprox, \"€\")\n",
    "\n",
    "\n"
   ]
  },
  {
   "cell_type": "code",
   "execution_count": null,
   "id": "804efef9-5f6a-4f92-bfee-dc2457fbd05b",
   "metadata": {},
   "outputs": [],
   "source": []
  }
 ],
 "metadata": {
  "kernelspec": {
   "display_name": "Python 3 (ipykernel)",
   "language": "python",
   "name": "python3"
  },
  "language_info": {
   "codemirror_mode": {
    "name": "ipython",
    "version": 3
   },
   "file_extension": ".py",
   "mimetype": "text/x-python",
   "name": "python",
   "nbconvert_exporter": "python",
   "pygments_lexer": "ipython3",
   "version": "3.10.5"
  }
 },
 "nbformat": 4,
 "nbformat_minor": 5
}
