{
 "cells": [
  {
   "cell_type": "code",
   "execution_count": 5,
   "metadata": {},
   "outputs": [
    {
     "name": "stdout",
     "output_type": "stream",
     "text": [
      "14.666666666666666\n",
      "27.555555555555557\n",
      "5.2493385826745405\n"
     ]
    }
   ],
   "source": [
    "#Escribir una función que reciba una muestra de números\n",
    "# en una lista y devuelva un diccionario con su media, varianza y desviación típica.\n",
    "\n",
    "\n",
    "sample_1 = [12, 23, 17, 21, 19, 7, 11, 9, 13]\n",
    "\n",
    "def media(lista):\n",
    "    suma = 0\n",
    "    cantidad_muestras = len(lista)\n",
    "    for i in lista:\n",
    "        suma += i\n",
    "    promedio = suma / cantidad_muestras\n",
    "    return promedio\n",
    "\n",
    "print(media(sample_1))\n",
    "\n",
    "#Varianza metodo 1\n",
    "#def variance(lista):\n",
    " #   num = 0\n",
    " #   x = 0\n",
    " #   y = 0\n",
    " #   suma = 0\n",
    " #   cantidad_muestras = len(sample_1)\n",
    " #   for i in lista:\n",
    "#        suma += 1\n",
    "#        promedio = suma / cantidad_muestras\n",
    "#    for n in lista:\n",
    "#       num = n - promedio\n",
    "#        x = num * num\n",
    "#        y = y + x\n",
    "#        return y / cantidad_muestras\n",
    "#print(variance(sample_1))\n",
    "\n",
    "#Varianza metodo 2\n",
    "def variance(lista):\n",
    "    numb = media(lista)\n",
    "    collector = 0\n",
    "    for i in lista:\n",
    "        collector += (i - numb)**2 \n",
    "    result = collector / len(lista)\n",
    "    return result\n",
    "print(variance(sample_1))\n",
    "\n",
    "#desviacion_tipica\n",
    "def desviacion_tipica(lista):\n",
    "    raiz_cuadrada = variance(lista)**0.5 \n",
    "    return raiz_cuadrada\n",
    "print(desviacion_tipica(sample_1))\n",
    "\n",
    "\n",
    "\n",
    "\n",
    "\n",
    "\n",
    "\n",
    "\n",
    "\n",
    "\n"
   ]
  },
  {
   "cell_type": "code",
   "execution_count": null,
   "metadata": {},
   "outputs": [],
   "source": []
  }
 ],
 "metadata": {
  "kernelspec": {
   "display_name": "Python 3.10.5 64-bit",
   "language": "python",
   "name": "python3"
  },
  "language_info": {
   "codemirror_mode": {
    "name": "ipython",
    "version": 3
   },
   "file_extension": ".py",
   "mimetype": "text/x-python",
   "name": "python",
   "nbconvert_exporter": "python",
   "pygments_lexer": "ipython3",
   "version": "3.10.5"
  },
  "orig_nbformat": 4,
  "vscode": {
   "interpreter": {
    "hash": "98fa02a8c884382a90c52caa7e7b88891612be484f9b34d4c4e4bfd155aeec17"
   }
  }
 },
 "nbformat": 4,
 "nbformat_minor": 2
}
