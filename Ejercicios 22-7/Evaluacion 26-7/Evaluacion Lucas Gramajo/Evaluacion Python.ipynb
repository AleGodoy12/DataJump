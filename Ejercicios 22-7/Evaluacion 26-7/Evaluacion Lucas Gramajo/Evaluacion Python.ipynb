{
 "cells": [
  {
   "cell_type": "code",
   "execution_count": 4,
   "metadata": {},
   "outputs": [
    {
     "name": "stdout",
     "output_type": "stream",
     "text": [
      "Debe pagar 10€\n"
     ]
    }
   ],
   "source": [
    "##1.- Escribir un programa para una empresa que tiene salas de juegos para todas las edades y quiere calcular de forma automática el precio que debe cobrar a sus clientes por entrar. El programa debe preguntar al usuario la edad del cliente y mostrar el precio de la entrada. Si el cliente es menor de 4 años puede entrar gratis, si tiene\n",
    "# entre 4 y 18 años debe pagar 5€ y si es mayor de 18 años, 10€.\n",
    "\n",
    "lista = [4,5, 6, 7, 8, 9, 10, 11, 12, 13, 14, 15, 16, 17, 18]\n",
    "\n",
    "edad = int(input(\"Hola, ¿cual es su edad?\"))\n",
    "\n",
    "if (edad in lista):\n",
    "    print (\"Debe pagar 5€\")\n",
    "    \n",
    "else: \n",
    "    if (edad < 4):\n",
    "        print (\"Pasa Gratis\")\n",
    "    else: \n",
    "        print (\"Debe pagar 10€\")\n",
    "\n",
    "    "
   ]
  },
  {
   "cell_type": "code",
   "execution_count": 5,
   "metadata": {},
   "outputs": [
    {
     "name": "stdout",
     "output_type": "stream",
     "text": [
      "Buenaaas\n",
      "Buenaaas\n",
      "Buenaaas\n",
      "Buenaaas\n",
      "Buenaaas\n",
      "Buenaaas\n",
      "Buenaaas\n",
      "Buenaaas\n",
      "Buenaaas\n",
      "Buenaaas\n"
     ]
    }
   ],
   "source": [
    "##1.- Escribir un programa en el que se pregunte al usuario por una frase y una letra, y muestre por pantalla\n",
    "# el número de veces que aparece la letra en la frase\n",
    "\n",
    "palabra = input((\"Diga una palabra\"))\n",
    "\n",
    "cantidad = 0\n",
    "\n",
    "while (cantidad < 10):\n",
    "    cantidad += 1\n",
    "    print(palabra)\n",
    "    "
   ]
  },
  {
   "cell_type": "code",
   "execution_count": 2,
   "metadata": {},
   "outputs": [
    {
     "name": "stdout",
     "output_type": "stream",
     "text": [
      "1\n"
     ]
    }
   ],
   "source": [
    "# el número de veces que aparece la letra en la frase\n",
    "from collections import Counter \n",
    "\n",
    "frase = str(input(\"Diga una frase\"))\n",
    "\n",
    "letra = str(input(\"Diga una letra\"))\n",
    "\n",
    "counter = Counter(frase)\n",
    "\n",
    "print(counter[letra])"
   ]
  }
 ],
 "metadata": {
  "kernelspec": {
   "display_name": "Python 3.10.5 64-bit",
   "language": "python",
   "name": "python3"
  },
  "language_info": {
   "codemirror_mode": {
    "name": "ipython",
    "version": 3
   },
   "file_extension": ".py",
   "mimetype": "text/x-python",
   "name": "python",
   "nbconvert_exporter": "python",
   "pygments_lexer": "ipython3",
   "version": "3.10.5"
  },
  "orig_nbformat": 4,
  "vscode": {
   "interpreter": {
    "hash": "98fa02a8c884382a90c52caa7e7b88891612be484f9b34d4c4e4bfd155aeec17"
   }
  }
 },
 "nbformat": 4,
 "nbformat_minor": 2
}
