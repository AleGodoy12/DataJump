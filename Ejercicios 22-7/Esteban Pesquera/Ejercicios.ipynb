{
 "cells": [
  {
   "cell_type": "code",
   "execution_count": 1,
   "metadata": {},
   "outputs": [
    {
     "name": "stdout",
     "output_type": "stream",
     "text": [
      "Hola mundo!\n"
     ]
    }
   ],
   "source": [
    "# 1.- Escribir un programa que muestre por pantalla la cadena ¡Hola Mundo!.\n",
    "print(\"Hola mundo!\")"
   ]
  },
  {
   "cell_type": "code",
   "execution_count": 2,
   "metadata": {},
   "outputs": [
    {
     "name": "stdout",
     "output_type": "stream",
     "text": [
      "Hola mundo!\n"
     ]
    }
   ],
   "source": [
    "#2.- Escribir un programa que almacene la cadena ¡Hola Mundo! en una variable y luego muestre por\n",
    "#  pantalla el contenido de la variable.\n",
    "saludar = \"Hola mundo!\"\n",
    "print(saludar)"
   ]
  },
  {
   "cell_type": "code",
   "execution_count": 5,
   "metadata": {},
   "outputs": [
    {
     "name": "stdout",
     "output_type": "stream",
     "text": [
      "Su paga correspondiente es de  100 $\n"
     ]
    }
   ],
   "source": [
    "#3.- Escribir un programa que pregunte al usuario por el número de horas trabajadas\n",
    "#  y el coste por hora. Después debe mostrar por pantalla la paga que le corresponde\n",
    "\n",
    "horas_trabajadas = int(input(\"Hola!, indica tus horas trabajadas\"))\n",
    "sueldo_por_horas_trabajadas = int(input(\"indica tu salario por hora\"))\n",
    "paga_correspondiente = sueldo_por_horas_trabajadas*horas_trabajadas\n",
    "print(\"Su paga correspondiente es de \", paga_correspondiente, \"$\") "
   ]
  },
  {
   "cell_type": "code",
   "execution_count": 16,
   "metadata": {},
   "outputs": [
    {
     "name": "stdout",
     "output_type": "stream",
     "text": [
      "Tu indice de masa corporal (si no me mentiste) es de:  27.91\n"
     ]
    }
   ],
   "source": [
    "#4.- Escribir un programa que pida al usuario su peso (en kg) y estatura (en metros),\n",
    "# calcule el índice de masa corporal\n",
    "# y lo almacene en una variable, y muestre por pantalla la frase Tu índice de masa corporal\n",
    "# es <imc> donde <imc> es el índice de masa corporal calculado redondeado con dos decimales\n",
    "\n",
    "peso_en_kg = float(input(\"Hola!, decime tu peso, y no me mientas, las maquinas lo sabemos todo\"))\n",
    "estatura_en_metros = float(input(\"Ahora decime tu estatura, no olvides lo de no mentir\"))\n",
    "indice_de_masa_corporal = peso_en_kg/(estatura_en_metros**2)\n",
    "print(\"Tu indice de masa corporal (si no me mentiste) es de: \",\"{:.2f}\".format(indice_de_masa_corporal))"
   ]
  },
  {
   "cell_type": "code",
   "execution_count": 2,
   "metadata": {},
   "outputs": [
    {
     "name": "stdout",
     "output_type": "stream",
     "text": [
      "2.094\n"
     ]
    }
   ],
   "source": [
    "#5.- Una panadería vende barras de pan a 3.49€ cada una.\n",
    "#  El pan que no es el día tiene un descuento del 60%. Escribir un programa que comience leyendo el número\n",
    "#  de barras vendidas que no son del día. Después el programa debe mostrar el precio habitual de una barra de pan,\n",
    "#  el descuento que se le hace por no ser fresca y el coste final total\n",
    "barras_de_pan= 3.49\n",
    "cantidad = int(input(\"ingrese las barras de pan no vendidas el dia de hoy\"))\n",
    "precio_por_unidad = barras_de_pan * cantidad\n",
    "barras_de_pan_descuento = barras_de_pan * 60/100\n",
    "print(barras_de_pan_descuento)"
   ]
  },
  {
   "cell_type": "code",
   "execution_count": 8,
   "metadata": {},
   "outputs": [
    {
     "name": "stdout",
     "output_type": "stream",
     "text": [
      "sos mayor de edad\n"
     ]
    }
   ],
   "source": [
    "#1.- Escribir un programa que pregunte al usuario su edad y muestre por pantalla si es mayor de edad o no.\n",
    "input(\"ingresa tu edad, solo numeros\")\n",
    "edad = 18\n",
    "if (edad>=18):\n",
    "    print(\"sos mayor de edad\")\n",
    "else:\n",
    "    print(\"no sos mayor de edad\")"
   ]
  },
  {
   "cell_type": "code",
   "execution_count": 4,
   "metadata": {},
   "outputs": [
    {
     "name": "stdout",
     "output_type": "stream",
     "text": [
      "contraseña correcta!\n"
     ]
    }
   ],
   "source": [
    "\n",
    "#2.-Escribir un programa que almacene la cadena de caracteres contraseña en una variable,\n",
    "#  pregunte al usuario por la contraseña e imprima por pantalla si la contraseña introducida\n",
    "#  por el usuario coincide con la guardada en la variable sin tener en cuenta mayúsculas y minúsculas.\n",
    "contraseña = \"Nosequeponer123\"\n",
    "contraseña_user = input(\"escribi tu contraseña\").capitalize()\n",
    "if (contraseña == contraseña_user):\n",
    "    print(\"contraseña correcta!\")\n",
    "else:\n",
    "    print(\"contraseña incorrecta\")\n"
   ]
  },
  {
   "cell_type": "code",
   "execution_count": 5,
   "metadata": {},
   "outputs": [],
   "source": [
    "#3.- Escribir un programa que pida al usuario un número entero y muestre por pantalla si es par o impar.\n",
    "numero_ingresado = int(input(\"ingresa un numero\"))\n",
    "modulo= numero_ingresado % 2\n",
    "if numero_ingresado == 0:\n",
    "    print(\"el numero inrgesado es par\")\n",
    "else:\n",
    "    print(\"el numero ingresado es impar\")"
   ]
  },
  {
   "cell_type": "code",
   "execution_count": 11,
   "metadata": {},
   "outputs": [
    {
     "name": "stdout",
     "output_type": "stream",
     "text": [
      "el precio a pagar es de 5 €\n"
     ]
    }
   ],
   "source": [
    "# 4.- Escribir un programa para una empresa que tiene salas de juegos para todas las edades\n",
    "#  y quiere calcular de forma automática el precio que debe cobrar a sus clientes por entrar.\n",
    "#   El programa debe preguntar al usuario la edad del cliente y mostrar el precio de la entrada.\n",
    "#    Si el cliente es menor de 4 años puede\n",
    "#  entrar gratis, si tiene entre 4 y 18 años debe pagar 5€ y si es mayor de 18 años, 10€.\n",
    "\n",
    "edad_cliente = int(input(\"Cual es tu edad?, ingrese solo numeros \"))\n",
    "if edad_cliente <=18 and edad_cliente >=4:\n",
    "    print(\"el precio a pagar es de 5 €\")\n",
    "else:\n",
    "     if edad_cliente < 4:\n",
    "        print(\"podes ingresar gratis\")\n",
    "\n",
    "     else:\n",
    "        print(\"el precio a pagar es de 10€\")\n",
    "            "
   ]
  },
  {
   "cell_type": "code",
   "execution_count": 15,
   "metadata": {},
   "outputs": [
    {
     "name": "stdout",
     "output_type": "stream",
     "text": [
      "Tu grupo corresponde al A\n"
     ]
    }
   ],
   "source": [
    "# 5.- Los alumnos de un curso se han dividido en dos grupos A y B de acuerdo al sexo y el nombre.\n",
    "#  El grupo A esta formado por las mujeres con un nombre anterior a la M y\n",
    "#   los hombres con un nombre posterior a la N y el grupo B por el resto.\n",
    "#  Escribir un programa que pregunte al usuario su nombre y sexo, y muestre por pantalla el grupo que le corresponde.\n",
    "\n",
    "abecedario_mujer = (\"A\", \"B\", \"C\", \"D\",\"E\",\"F\",\"G\",\"H\",\"I\",\"J\",\"K\",\"L\",\"M\")\n",
    "abecedario_hombre = (\"N\",\"O\",\"P\",\"Q\",\"R\",\"S\",\"T\",\"U\",\"V\",\"W\",\"X\",\"Y\",\"Z\")\n",
    "nombre = (input(\"Ingrese su apellido\"))\n",
    "sexo = (input(\"Ingrese su sexo (femenino, masculino\"))\n",
    "\n",
    "if nombre.startswith(abecedario_mujer) and sexo == \"femenino\" or nombre.startswith(abecedario_hombre) and sexo == \"masculino\":\n",
    "    print (\"Tu grupo corresponde al A\")\n",
    "else:\n",
    "    print(\"Tu grupo corresponde al B\")\n"
   ]
  },
  {
   "cell_type": "code",
   "execution_count": 18,
   "metadata": {},
   "outputs": [
    {
     "name": "stdout",
     "output_type": "stream",
     "text": [
      "abcdefghijklmnopqrstuvwxyz\n"
     ]
    }
   ],
   "source": [
    "import string # la sentencia import, importa funciones de un modulo\n",
    "print(string.ascii_lowercase) #esta constante muestra el alfabeto en tipo strin"
   ]
  },
  {
   "cell_type": "code",
   "execution_count": 26,
   "metadata": {},
   "outputs": [
    {
     "name": "stdout",
     "output_type": "stream",
     "text": [
      "hola\n",
      "hola\n",
      "hola\n",
      "hola\n",
      "hola\n",
      "hola\n",
      "hola\n",
      "hola\n",
      "hola\n",
      "hola\n"
     ]
    }
   ],
   "source": [
    "#1.- Escribir un programa que pida al usuario una palabra y la muestre por pantalla 10 veces.\n",
    "palabra = (input(\"escibe una palabra para repetir\"))\n",
    "i = 0  #Se le da valor a i = 1 ya que es esta misma la que se va a comparar a < 10\n",
    "while (i < 10  ):\n",
    "    print(palabra)\n",
    "    i+=1\n"
   ]
  },
  {
   "cell_type": "code",
   "execution_count": 32,
   "metadata": {},
   "outputs": [
    {
     "name": "stdout",
     "output_type": "stream",
     "text": [
      "1\n",
      "3\n",
      "5\n",
      "7\n",
      "9\n"
     ]
    }
   ],
   "source": [
    "#2.- Escribir un programa que pida al usuario un número entero positivo\n",
    "# y muestre por pantalla todos los números impares desde 1 hasta ese número separados por comas.\n",
    "\n",
    "numb_user = int(input(\"decime un numero\"))\n",
    "for i in range(1,numb_user):\n",
    "    if( (i%2)!=0 ):\n",
    "        print(i) #no supe como separar con comas\n"
   ]
  },
  {
   "cell_type": "code",
   "execution_count": 39,
   "metadata": {},
   "outputs": [
    {
     "name": "stdout",
     "output_type": "stream",
     "text": [
      "Recorda esta formula, multiplicando * multiplicador = producto\n",
      "6\n",
      "12\n",
      "18\n",
      "24\n",
      "30\n",
      "36\n",
      "42\n",
      "48\n",
      "54\n",
      "60\n"
     ]
    }
   ],
   "source": [
    "#3.- Escribir un programa que muestre por pantalla la tabla de multiplicar del 1 al 10\n",
    "print(\"Recorda esta formula, multiplicando * multiplicador = producto\")\n",
    "multiplicando = int(input(\"indica la tabla deseada\"))\n",
    "limite_minimo = 1\n",
    "limite_maximo = 10 \n",
    "multiplicador=0\n",
    "for multiplicador in range(limite_minimo,limite_maximo + 1):\n",
    "    producto = multiplicando * multiplicador\n",
    "    print (producto)\n"
   ]
  },
  {
   "cell_type": "code",
   "execution_count": 7,
   "metadata": {},
   "outputs": [
    {
     "name": "stdout",
     "output_type": "stream",
     "text": [
      "¡Clave correcta!\n"
     ]
    }
   ],
   "source": [
    "#4.- Escribir un programa que almacene la cadena de caracteres contraseña en una variable,\n",
    "#  pregunte al usuario por la contraseña hasta que introduzca la contraseña correcta.\n",
    "contraseña = \"contraseñafacil\"\n",
    "contraseña_ingresada = input(\"Ingrese la contraseña: \")\n",
    "\n",
    "while contraseña != contraseña_ingresada:\n",
    "    contraseña_ingresada = input(\"La contraseña ingresada es incorrecta. intenta de nuevo\")\n",
    "\n",
    "print(\"La contraseña es correcta!!\")"
   ]
  },
  {
   "cell_type": "code",
   "execution_count": 16,
   "metadata": {},
   "outputs": [
    {
     "name": "stdout",
     "output_type": "stream",
     "text": [
      "2\n"
     ]
    }
   ],
   "source": [
    "# 5.- Escribir un programa en el que se pregunte al usuario por una frase y una letra\n",
    "#  y muestre por pantalla el número de veces que aparece la letra en la frase\n",
    "\n",
    "frase = (input(\"Ingrese una frase\"))\n",
    "letra = (input(\"Ingrese una letra\"))\n",
    "cantidad_misma_letra = 0 #representa un acumulador, este almacena la cantidad de veces que aparece una letra \n",
    "\n",
    "\n",
    "while cantidad_misma_letra < frase.count(letra):\n",
    "      cantidad_misma_letra += 1\n",
    "\n",
    "print(cantidad_misma_letra)"
   ]
  },
  {
   "cell_type": "code",
   "execution_count": null,
   "metadata": {},
   "outputs": [],
   "source": []
  }
 ],
 "metadata": {
  "kernelspec": {
   "display_name": "Python 3.10.5 64-bit",
   "language": "python",
   "name": "python3"
  },
  "language_info": {
   "codemirror_mode": {
    "name": "ipython",
    "version": 3
   },
   "file_extension": ".py",
   "mimetype": "text/x-python",
   "name": "python",
   "nbconvert_exporter": "python",
   "pygments_lexer": "ipython3",
   "version": "3.10.5"
  },
  "orig_nbformat": 4,
  "vscode": {
   "interpreter": {
    "hash": "98fa02a8c884382a90c52caa7e7b88891612be484f9b34d4c4e4bfd155aeec17"
   }
  }
 },
 "nbformat": 4,
 "nbformat_minor": 2
}
