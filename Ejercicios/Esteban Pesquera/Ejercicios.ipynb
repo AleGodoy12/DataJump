{
 "cells": [
  {
   "cell_type": "code",
   "execution_count": 1,
   "metadata": {},
   "outputs": [
    {
     "name": "stdout",
     "output_type": "stream",
     "text": [
      "Hola mundo!\n"
     ]
    }
   ],
   "source": [
    "# 1.- Escribir un programa que muestre por pantalla la cadena ¡Hola Mundo!.\n",
    "print(\"Hola mundo!\")"
   ]
  },
  {
   "cell_type": "code",
   "execution_count": 2,
   "metadata": {},
   "outputs": [
    {
     "name": "stdout",
     "output_type": "stream",
     "text": [
      "Hola mundo!\n"
     ]
    }
   ],
   "source": [
    "#2.- Escribir un programa que almacene la cadena ¡Hola Mundo! en una variable y luego muestre por\n",
    "#  pantalla el contenido de la variable.\n",
    "saludar = \"Hola mundo!\"\n",
    "print(saludar)"
   ]
  },
  {
   "cell_type": "code",
   "execution_count": 5,
   "metadata": {},
   "outputs": [
    {
     "name": "stdout",
     "output_type": "stream",
     "text": [
      "Su paga correspondiente es de  100 $\n"
     ]
    }
   ],
   "source": [
    "#3.- Escribir un programa que pregunte al usuario por el número de horas trabajadas\n",
    "#  y el coste por hora. Después debe mostrar por pantalla la paga que le corresponde\n",
    "\n",
    "horas_trabajadas = int(input(\"Hola!, indica tus horas trabajadas\"))\n",
    "sueldo_por_horas_trabajadas = int(input(\"indica tu salario por hora\"))\n",
    "paga_correspondiente = sueldo_por_horas_trabajadas*horas_trabajadas\n",
    "print(\"Su paga correspondiente es de \", paga_correspondiente, \"$\") "
   ]
  },
  {
   "cell_type": "code",
   "execution_count": 16,
   "metadata": {},
   "outputs": [
    {
     "name": "stdout",
     "output_type": "stream",
     "text": [
      "Tu indice de masa corporal (si no me mentiste) es de:  27.91\n"
     ]
    }
   ],
   "source": [
    "#4.- Escribir un programa que pida al usuario su peso (en kg) y estatura (en metros),\n",
    "# calcule el índice de masa corporal\n",
    "# y lo almacene en una variable, y muestre por pantalla la frase Tu índice de masa corporal\n",
    "# es <imc> donde <imc> es el índice de masa corporal calculado redondeado con dos decimales\n",
    "\n",
    "peso_en_kg = float(input(\"Hola!, decime tu peso, y no me mientas, las maquinas lo sabemos todo\"))\n",
    "estatura_en_metros = float(input(\"Ahora decime tu estatura, no olvides lo de no mentir\"))\n",
    "indice_de_masa_corporal = peso_en_kg/(estatura_en_metros**2)\n",
    "print(\"Tu indice de masa corporal (si no me mentiste) es de: \",\"{:.2f}\".format(indice_de_masa_corporal))"
   ]
  },
  {
   "cell_type": "code",
   "execution_count": 2,
   "metadata": {},
   "outputs": [
    {
     "name": "stdout",
     "output_type": "stream",
     "text": [
      "2.094\n"
     ]
    }
   ],
   "source": [
    "#5.- Una panadería vende barras de pan a 3.49€ cada una.\n",
    "#  El pan que no es el día tiene un descuento del 60%. Escribir un programa que comience leyendo el número\n",
    "#  de barras vendidas que no son del día. Después el programa debe mostrar el precio habitual de una barra de pan,\n",
    "#  el descuento que se le hace por no ser fresca y el coste final total\n",
    "barras_de_pan= 3.49\n",
    "cantidad = int(input(\"ingrese las barras de pan no vendidas el dia de hoy\"))\n",
    "precio_por_unidad = barras_de_pan * cantidad\n",
    "barras_de_pan_descuento = barras_de_pan * 60/100\n",
    "print(barras_de_pan_descuento)"
   ]
  },
  {
   "cell_type": "code",
   "execution_count": 8,
   "metadata": {},
   "outputs": [
    {
     "name": "stdout",
     "output_type": "stream",
     "text": [
      "sos mayor de edad\n"
     ]
    }
   ],
   "source": [
    "#1.- Escribir un programa que pregunte al usuario su edad y muestre por pantalla si es mayor de edad o no.\n",
    "input(\"ingresa tu edad, solo numeros\")\n",
    "edad = 18\n",
    "if (edad>=18):\n",
    "    print(\"sos mayor de edad\")\n",
    "else:\n",
    "    print(\"no sos mayor de edad\")"
   ]
  },
  {
   "cell_type": "code",
   "execution_count": null,
   "metadata": {},
   "outputs": [],
   "source": []
  }
 ],
 "metadata": {
  "kernelspec": {
   "display_name": "Python 3.10.5 64-bit",
   "language": "python",
   "name": "python3"
  },
  "language_info": {
   "codemirror_mode": {
    "name": "ipython",
    "version": 3
   },
   "file_extension": ".py",
   "mimetype": "text/x-python",
   "name": "python",
   "nbconvert_exporter": "python",
   "pygments_lexer": "ipython3",
   "version": "3.10.5"
  },
  "orig_nbformat": 4,
  "vscode": {
   "interpreter": {
    "hash": "98fa02a8c884382a90c52caa7e7b88891612be484f9b34d4c4e4bfd155aeec17"
   }
  }
 },
 "nbformat": 4,
 "nbformat_minor": 2
}
