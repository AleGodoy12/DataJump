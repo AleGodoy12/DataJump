{
 "cells": [
  {
   "cell_type": "code",
   "execution_count": null,
   "id": "48a77b46-3878-4746-aa4e-7c6788c728ca",
   "metadata": {},
   "outputs": [
    {
     "name": "stdin",
     "output_type": "stream",
     "text": [
      "pon la contraseña:  arbusta123\n",
      "pon la contraseña:  arbusta123\n"
     ]
    }
   ],
   "source": [
    "#*Ejercicios Condicionales*\n",
    "\n",
    "#1.-Escribir un programa que almacene la cadena de caracteres contraseña en una variable, pregunte al usuario por la contraseña e imprima por pantalla si la contraseña introducida por el usuario coincide con la \n",
    "# guardada en la variable sin tener en cuenta mayúsculas y minúsculas.\n",
    "\n",
    "\n",
    "\n",
    "contra = \"contraseña\"\n",
    "password =\"arbusta123\"\n",
    "while password != contra:\n",
    "    password = input(\"pon la contraseña:arbusta\")\n",
    "print(\"contraseña aceptada\")"
   ]
  },
  {
   "cell_type": "code",
   "execution_count": null,
   "id": "1f9f40c7-c06a-4beb-a300-c3a55003f63f",
   "metadata": {},
   "outputs": [],
   "source": [
    "#Ejercicios Bucles\n",
    "\n",
    "#1.- Escribir un programa en el que se pregunte al usuario por una frase y una letra, y muestre por pantalla \n",
    "# el número de veces que aparece la letra en la frase\n",
    " \n",
    "frase = input(\"al que madruga dios lo ayuda: \")\n",
    "letra = input(\"e\")\n",
    "contador = 0\n",
    "for i in frase:\n",
    "    if i == letra:\n",
    "        contador += 1\n",
    "print(\"La letra '%s' aparece %2i veces en la frase '%s'.\" % (letra, contador, frase))"
   ]
  },
  {
   "cell_type": "code",
   "execution_count": null,
   "id": "ee1490da-58bd-4ec3-9c6c-9951636664b6",
   "metadata": {},
   "outputs": [],
   "source": []
  },
  {
   "cell_type": "code",
   "execution_count": null,
   "id": "24c761b6-c369-4273-837c-4c41ae459247",
   "metadata": {},
   "outputs": [],
   "source": []
  }
 ],
 "metadata": {
  "kernelspec": {
   "display_name": "Python 3 (ipykernel)",
   "language": "python",
   "name": "python3"
  },
  "language_info": {
   "codemirror_mode": {
    "name": "ipython",
    "version": 3
   },
   "file_extension": ".py",
   "mimetype": "text/x-python",
   "name": "python",
   "nbconvert_exporter": "python",
   "pygments_lexer": "ipython3",
   "version": "3.10.5"
  }
 },
 "nbformat": 4,
 "nbformat_minor": 5
}
