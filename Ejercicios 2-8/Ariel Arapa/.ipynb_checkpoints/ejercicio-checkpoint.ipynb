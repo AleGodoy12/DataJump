{
 "cells": [
  {
   "cell_type": "markdown",
   "id": "48eb1895-da8d-4bce-9e9b-55ac335c8388",
   "metadata": {
    "tags": []
   },
   "source": [
    "### Funciones"
   ]
  },
  {
   "cell_type": "markdown",
   "id": "bf4a2a3b-536e-40bb-a881-a0c1520ed18b",
   "metadata": {
    "tags": []
   },
   "source": [
    "#### Escribir una función que reciba una muestra de números en una lista y devuelva un diccionario con su media, varianza y desviación típica."
   ]
  },
  {
   "cell_type": "code",
   "execution_count": 1,
   "id": "0c507e0f-ace6-4a82-8728-18f5e59e6368",
   "metadata": {},
   "outputs": [
    {
     "name": "stdout",
     "output_type": "stream",
     "text": [
      "{'media': 14.666666666666666, 'varianza': 27.555555555555557, 'desviacion_tipica': 5.2493385826745405}\n"
     ]
    }
   ],
   "source": [
    "listaNum = [12, 23, 17, 21, 19, 7, 11, 9, 13]\n",
    "\n",
    "def media(lista):\n",
    "    suma = 0\n",
    "    for i in lista:\n",
    "        suma += i\n",
    "    promedio = suma / len(lista)\n",
    "    return promedio\n",
    "\n",
    "#Definición tecnica\n",
    "# La varianza es una medida de dispersión que representa la variabilidad de una serie de datos respecto a su media. Formalmente se calcula como la suma de los residuos al cuadrado divididos entre el total de observaciones.\n",
    "def varianza(lista):\n",
    "    mu = media(lista)\n",
    "    contador = 0\n",
    "    for i in lista:\n",
    "        contador += (i - mu)**2 #(resta el elemento de una lista por la media) = residuo y luego lo eleva al cuadrado\n",
    "    v = contador / len(lista) #ahora eso lo divide entre el total de observaciones\n",
    "    return v\n",
    "\n",
    "def desviacion_tipica(lista): #La desviacion tipica es la raiz cuadrada de la varianza\n",
    "    raiz_cuadrada = varianza(lista)**0.5 \n",
    "    return raiz_cuadrada\n",
    "\n",
    "def matematicas(lista):\n",
    "    diccionario = {}\n",
    "    m = media(lista)\n",
    "    v = varianza(lista)\n",
    "    dt = desviacion_tipica(lista)\n",
    "    diccionario.update({\"media\": m})\n",
    "    diccionario.update({\"varianza\": v})\n",
    "    diccionario.update({\"desviacion_tipica\": dt})\n",
    "    return diccionario\n",
    "\n",
    "resultado = matematicas(listaNum)\n",
    "print(resultado)"
   ]
  },
  {
   "cell_type": "markdown",
   "id": "659f4b3d-7b63-4bd3-b530-2e6023836234",
   "metadata": {
    "tags": []
   },
   "source": [
    "#### Escribir una función que calcule el máximo común divisor de dos números y otra que calcule el mínimo común múltiplo."
   ]
  },
  {
   "cell_type": "code",
   "execution_count": 4,
   "id": "1825edb7-06d1-433b-a2f4-1fada05b46a3",
   "metadata": {},
   "outputs": [
    {
     "name": "stdin",
     "output_type": "stream",
     "text": [
      "Ingrese un número:  150\n",
      "Ingrese otro número:  180\n"
     ]
    },
    {
     "name": "stdout",
     "output_type": "stream",
     "text": [
      "El maximo comun divisor entre 150 y 180 es: 30\n"
     ]
    }
   ],
   "source": [
    "num = int(input(\"Ingrese un número: \"))\n",
    "num1 = int(input(\"Ingrese otro número: \"))\n",
    "\n",
    "def divisores(num):\n",
    "    lista = []\n",
    "    for i in range(1,num + 1):\n",
    "        if num % i == 0:\n",
    "            lista.append(i)\n",
    "    return lista\n",
    "def tomarMayor(lista, lista1):\n",
    "    t = []\n",
    "    if len(lista) >= len(lista1):\n",
    "        for i in lista1:\n",
    "            x = i in lista\n",
    "            if x == True:\n",
    "                t.append(i)\n",
    "    else: \n",
    "        for i in lista:\n",
    "            x = i in lista1\n",
    "            if x == True:\n",
    "                t.append(i)\n",
    "    return t[-1]\n",
    "\n",
    "def mcd(num, num1):\n",
    "    lista = divisores(num)\n",
    "    lista1 = divisores(num1)\n",
    "    mayor = tomarMayor(lista, lista1)\n",
    "    return mayor\n",
    "\n",
    "algo = mcd(num, num1)\n",
    "print(f\"El maximo comun divisor entre {num} y {num1} es: {algo}\")"
   ]
  },
  {
   "cell_type": "code",
   "execution_count": 5,
   "id": "ed050753-bf3b-4e48-a729-898a9d3bee21",
   "metadata": {},
   "outputs": [
    {
     "name": "stdin",
     "output_type": "stream",
     "text": [
      "Ingrese un número:  43\n",
      "Ingrese otro número:  22\n"
     ]
    },
    {
     "name": "stdout",
     "output_type": "stream",
     "text": [
      "El minimo comun multiplo entre 43 y 22 es: 946\n"
     ]
    }
   ],
   "source": [
    "num3 = int(input(\"Ingrese un número: \"))\n",
    "num4 = int(input(\"Ingrese otro número: \"))\n",
    "\n",
    "\n",
    "def mcdivisor(num3, num4):\n",
    "    contador = 0\n",
    "    tabla3 = []\n",
    "    tabla4 = []\n",
    "    validar = True\n",
    "    while validar:\n",
    "        contador += 1\n",
    "        mul3 = num3 * contador\n",
    "        tabla3.append(mul3)\n",
    "        mul4 = num4 * contador\n",
    "        tabla4.append(mul4)\n",
    "        if num3 < num4:\n",
    "            for i in tabla3:\n",
    "                x = i in tabla4\n",
    "                if x == True:\n",
    "                    return i\n",
    "                    validar = False\n",
    "        else:\n",
    "            for i in tabla4:\n",
    "                x = i in tabla3\n",
    "                if x == True:\n",
    "                    return i\n",
    "                    validar = False\n",
    "\n",
    "algo1 = mcdivisor(num3, num4)\n",
    "print(f\"El minimo comun multiplo entre {num3} y {num4} es: {algo1}\")"
   ]
  },
  {
   "cell_type": "markdown",
   "id": "9da2321a-f72e-4a6d-9b6e-cc2153116109",
   "metadata": {},
   "source": [
    "####  Escribir un programa que reciba una cadena de caracteres y devuelva un diccionario con cada palabra que contiene y su frecuencia. Escribir otra función que reciba el diccionario generado con la función anterior y devuelva una tupla con la palabra más repetida y su frecuencia."
   ]
  },
  {
   "cell_type": "code",
   "execution_count": 23,
   "id": "8bcfca87-c66c-4e33-8fbe-e9fde8ada2e2",
   "metadata": {},
   "outputs": [
    {
     "name": "stdout",
     "output_type": "stream",
     "text": [
      "{'Hola': 1, 'wuapo': 2, 'traquetero': 2, 'estas': 3, 'raro': 1, 'hoy': 2, 'mas': 1, 'hola': 1}\n",
      "('estas', 3)\n"
     ]
    }
   ],
   "source": [
    "cadenaString = \"Hola wuapo traquetero estas estas raro hoy wuapo hoy mas traquetero hola estas\"\n",
    "\n",
    "def diccionario(x):\n",
    "    cadena = x.split()\n",
    "    diccionario = {}\n",
    "    for i in cadena:\n",
    "        count = cadena.count(i)\n",
    "        diccionario[i] = count\n",
    "\n",
    "    return diccionario\n",
    "\n",
    "algo = diccionario(cadenaString)\n",
    "print(algo)\n",
    "mayor = 0\n",
    "tupla = ()\n",
    "for x in algo:\n",
    "    if algo[x] > mayor:\n",
    "        tupla = (x, algo[x])\n",
    "        mayor = algo[x]\n",
    "print(tupla)\n",
    "#falta segunda parte del ejercicio"
   ]
  },
  {
   "cell_type": "code",
   "execution_count": 3,
   "id": "84e012e5-e248-45bb-ab23-7632e11c68fb",
   "metadata": {},
   "outputs": [
    {
     "ename": "KeyError",
     "evalue": "'Hola'",
     "output_type": "error",
     "traceback": [
      "\u001b[1;31m---------------------------------------------------------------------------\u001b[0m",
      "\u001b[1;31mKeyError\u001b[0m                                  Traceback (most recent call last)",
      "Input \u001b[1;32mIn [3]\u001b[0m, in \u001b[0;36m<cell line: 13>\u001b[1;34m()\u001b[0m\n\u001b[0;32m     10\u001b[0m             diccionario\u001b[38;5;241m.\u001b[39mupdate({i : \u001b[38;5;241m1\u001b[39m})\n\u001b[0;32m     11\u001b[0m     \u001b[38;5;28;01mreturn\u001b[39;00m diccionario\n\u001b[1;32m---> 13\u001b[0m al \u001b[38;5;241m=\u001b[39m \u001b[43mdicci\u001b[49m\u001b[43m(\u001b[49m\u001b[43mcad\u001b[49m\u001b[43m)\u001b[49m\n\u001b[0;32m     14\u001b[0m \u001b[38;5;28mprint\u001b[39m(al)\n",
      "Input \u001b[1;32mIn [3]\u001b[0m, in \u001b[0;36mdicci\u001b[1;34m(x)\u001b[0m\n\u001b[0;32m      5\u001b[0m diccionario \u001b[38;5;241m=\u001b[39m {}\n\u001b[0;32m      6\u001b[0m \u001b[38;5;28;01mfor\u001b[39;00m i \u001b[38;5;129;01min\u001b[39;00m cadena:\n\u001b[1;32m----> 7\u001b[0m     \u001b[38;5;28;01mif\u001b[39;00m \u001b[43mdiccionario\u001b[49m\u001b[43m[\u001b[49m\u001b[43mi\u001b[49m\u001b[43m]\u001b[49m \u001b[38;5;241m!=\u001b[39m \u001b[38;5;28;01mNone\u001b[39;00m:\n\u001b[0;32m      8\u001b[0m         diccionario[i] \u001b[38;5;241m+\u001b[39m\u001b[38;5;241m=\u001b[39m \u001b[38;5;241m1\u001b[39m\n\u001b[0;32m      9\u001b[0m     \u001b[38;5;28;01melse\u001b[39;00m:\n",
      "\u001b[1;31mKeyError\u001b[0m: 'Hola'"
     ]
    }
   ],
   "source": [
    "## Opcion N°2 pero a resolver\n",
    "cad = \"Hola master todo bien master\"\n",
    "def dicci(x):\n",
    "    cadena = x.split()\n",
    "    diccionario = {}\n",
    "    for i in cadena:\n",
    "        if diccionario[i] != None:\n",
    "            diccionario[i] += 1\n",
    "        else:\n",
    "            diccionario.update({i : 1})\n",
    "    return diccionario\n",
    "\n",
    "al = dicci(cad)\n",
    "print(al)"
   ]
  },
  {
   "cell_type": "markdown",
   "id": "3675f729-47e9-4a9a-b769-ca85d9452ef9",
   "metadata": {
    "tags": []
   },
   "source": [
    "### Ejercicios listas y tuplas"
   ]
  },
  {
   "cell_type": "markdown",
   "id": "ba74faaf-bf01-464a-a630-01fa4aebbcf1",
   "metadata": {},
   "source": [
    "#### Escribir un programa que almacene las asignaturas de un curso (por ejemplo Matemáticas, Física, Química, Historia y Lengua) en una lista y la muestre por pantalla el mensaje Yo estudio <asignatura>, donde <asignatura> es cada una de las asignaturas de la lista."
   ]
  },
  {
   "cell_type": "code",
   "execution_count": 1,
   "id": "c4321f98-6bce-49d1-9f8e-e488b35e9d8d",
   "metadata": {},
   "outputs": [
    {
     "name": "stdout",
     "output_type": "stream",
     "text": [
      "Yo estudio, Matemáticas\n",
      "Yo estudio, Física\n",
      "Yo estudio, Química\n",
      "Yo estudio, Historia\n",
      "Yo estudio, Lengua\n"
     ]
    }
   ],
   "source": [
    "materias = [\"Matemáticas\", \"Física\", \"Química\", \"Historia\", \"Lengua\"]\n",
    "\n",
    "for i in materias:\n",
    "    print(f\"Yo estudio, {i}\")"
   ]
  },
  {
   "cell_type": "markdown",
   "id": "23d924ba-a911-46ca-a108-5505ba170f08",
   "metadata": {},
   "source": [
    "#### Escribir un programa que pregunte al usuario los números ganadores de la lotería primitiva, los almacene en una lista y los muestre por pantalla ordenados de menor a mayor."
   ]
  },
  {
   "cell_type": "code",
   "execution_count": 2,
   "id": "4161677d-263b-4ad2-8eff-dcbcb8a6923b",
   "metadata": {},
   "outputs": [
    {
     "name": "stdin",
     "output_type": "stream",
     "text": [
      "Ingrese los numeros ganadores de la loteria:  21212\n",
      "Ingrese los numeros ganadores de la loteria:  21211\n",
      "Ingrese los numeros ganadores de la loteria:  34344\n",
      "Ingrese los numeros ganadores de la loteria:  43434\n",
      "Ingrese los numeros ganadores de la loteria:  21211\n",
      "Ingrese los numeros ganadores de la loteria:  32222\n",
      "Ingrese los numeros ganadores de la loteria:  12121\n",
      "Ingrese los numeros ganadores de la loteria:  0\n"
     ]
    },
    {
     "name": "stdout",
     "output_type": "stream",
     "text": [
      "[12121, 21211, 21211, 21212, 32222, 34344, 43434]\n"
     ]
    }
   ],
   "source": [
    "loteria = []\n",
    "while True:\n",
    "    numLoteria = int(input(\"Ingrese los numeros ganadores de la loteria: \"))\n",
    "    if numLoteria == 0: \n",
    "        break\n",
    "    loteria.append(numLoteria)\n",
    "loteria.sort()\n",
    "print(loteria)"
   ]
  },
  {
   "cell_type": "markdown",
   "id": "9b4c481e-2b4c-4d3d-ba1b-947784c06de2",
   "metadata": {},
   "source": [
    "#### Escribir un programa que almacene en una lista los siguientes precios, 50, 75, 46, 22, 80, 65, 8, y muestre por pantalla el menor y el mayor de los precios."
   ]
  },
  {
   "cell_type": "code",
   "execution_count": 10,
   "id": "d0bfba83-68e0-4eb8-ad25-2688a9b8b1a7",
   "metadata": {},
   "outputs": [
    {
     "name": "stdout",
     "output_type": "stream",
     "text": [
      "El mayor precio es 80 y el menor es 2\n"
     ]
    }
   ],
   "source": [
    "precios = [50, 5, 75, 46, 2, 22, 80, 65, 8]\n",
    "menor = precios[0]\n",
    "mayor = 0\n",
    "\n",
    "for i in precios:\n",
    "    if i > mayor:\n",
    "        mayor = i\n",
    "    elif i < menor:\n",
    "        menor = i\n",
    "print(f\"El mayor precio es {mayor} y el menor es {menor}\")"
   ]
  },
  {
   "cell_type": "markdown",
   "id": "77adf057-17ce-49dc-841f-803b0e6ea7f7",
   "metadata": {
    "tags": []
   },
   "source": [
    "### Dicccionarios"
   ]
  },
  {
   "cell_type": "markdown",
   "id": "fe5dc850-960a-49cc-835c-3f0d05cf09df",
   "metadata": {},
   "source": [
    "#### Escribir un programa que pregunte al usuario su nombre, edad, dirección y teléfono y lo guarde en un diccionario. Después debe mostrar por pantalla el mensaje <nombre> tiene <edad> años, vive en <dirección> y su número de teléfono es <teléfono>."
   ]
  },
  {
   "cell_type": "code",
   "execution_count": 14,
   "id": "7440876f-cb40-43ee-b6da-fc2060bbf38b",
   "metadata": {},
   "outputs": [
    {
     "name": "stdin",
     "output_type": "stream",
     "text": [
      "Ingrese su nombre:  Ariel\n",
      "Ingrese su edad:  21\n",
      "Ingrese su direccion alcortate\n",
      "Ingrese su telefono:  21121\n"
     ]
    },
    {
     "name": "stdout",
     "output_type": "stream",
     "text": [
      "Hola Ariel!! tiene 21 años, vive en alcortate y su número de teléfono es 21121\n"
     ]
    }
   ],
   "source": [
    "nombre = input(\"Ingrese su nombre: \")\n",
    "edad = int(input(\"Ingrese su edad: \"))\n",
    "direccion = input(\"Ingrese su direccion\")\n",
    "telefono = int(input(\"Ingrese su telefono: \"))\n",
    "\n",
    "datos = {}\n",
    "datos[\"nombre\"] = nombre\n",
    "datos[\"edad\"] = edad\n",
    "datos[\"direccion\"] = direccion\n",
    "datos[\"telefono\"] = telefono\n",
    "\n",
    "n = datos[\"nombre\"]\n",
    "e = datos[\"edad\"]\n",
    "d = datos[\"direccion\"]\n",
    "t = datos[\"telefono\"]\n",
    "\n",
    "print(f\"Hola {n}!! tiene {e} años, vive en {d} y su número de teléfono es {t}\")"
   ]
  },
  {
   "cell_type": "markdown",
   "id": "f3b2064f-f0d0-4ee5-8b1f-4f296d7fa537",
   "metadata": {},
   "source": [
    "#### Escribir un programa que cree un diccionario vacío y lo vaya llenado con información sobre una persona (por ejemplo nombre, edad, sexo, teléfono, correo electrónico, etc.) que se le pida al usuario. Cada vez que se añada un nuevo dato debe imprimirse el contenido del diccionario."
   ]
  },
  {
   "cell_type": "code",
   "execution_count": 16,
   "id": "84136119-689b-4322-8be1-55d25ca2db30",
   "metadata": {},
   "outputs": [
    {
     "name": "stdin",
     "output_type": "stream",
     "text": [
      "ingrese titulo de dato:  Nombre \n",
      "Ingrese el dato correspondiente:  Ariel\n"
     ]
    },
    {
     "name": "stdout",
     "output_type": "stream",
     "text": [
      "Nombre  : Ariel\n"
     ]
    },
    {
     "name": "stdin",
     "output_type": "stream",
     "text": [
      "Si desea salir ingrese 'salir':  continuar\n",
      "ingrese titulo de dato:  Apellido\n",
      "Ingrese el dato correspondiente:  Arapa\n"
     ]
    },
    {
     "name": "stdout",
     "output_type": "stream",
     "text": [
      "Nombre  : Ariel\n",
      "Apellido : Arapa\n"
     ]
    },
    {
     "name": "stdin",
     "output_type": "stream",
     "text": [
      "Si desea salir ingrese 'salir':  cont\n",
      "ingrese titulo de dato:  Edad\n",
      "Ingrese el dato correspondiente:  21\n"
     ]
    },
    {
     "name": "stdout",
     "output_type": "stream",
     "text": [
      "Nombre  : Ariel\n",
      "Apellido : Arapa\n",
      "Edad : 21\n"
     ]
    },
    {
     "name": "stdin",
     "output_type": "stream",
     "text": [
      "Si desea salir ingrese 'salir':  a\n",
      "ingrese titulo de dato:  Sexo\n",
      "Ingrese el dato correspondiente:  Masculino\n"
     ]
    },
    {
     "name": "stdout",
     "output_type": "stream",
     "text": [
      "Nombre  : Ariel\n",
      "Apellido : Arapa\n",
      "Edad : 21\n",
      "Sexo : Masculino\n"
     ]
    },
    {
     "name": "stdin",
     "output_type": "stream",
     "text": [
      "Si desea salir ingrese 'salir':  \n",
      "ingrese titulo de dato:  Telefono\n",
      "Ingrese el dato correspondiente:  12121\n"
     ]
    },
    {
     "name": "stdout",
     "output_type": "stream",
     "text": [
      "Nombre  : Ariel\n",
      "Apellido : Arapa\n",
      "Edad : 21\n",
      "Sexo : Masculino\n",
      "Telefono : 12121\n"
     ]
    },
    {
     "name": "stdin",
     "output_type": "stream",
     "text": [
      "Si desea salir ingrese 'salir':  salir\n"
     ]
    }
   ],
   "source": [
    "info = {}\n",
    "while True:\n",
    "    clave = input(\"ingrese titulo de dato: \")\n",
    "    valor = input(\"Ingrese el dato correspondiente: \")\n",
    "    info.update({clave : valor})\n",
    "    for c, v in info.items():\n",
    "        print(f\"{c} : {v}\")\n",
    "    salida = input(\"Si desea salir ingrese 'salir': \")\n",
    "    if salida == \"salir\":\n",
    "        break\n"
   ]
  },
  {
   "cell_type": "code",
   "execution_count": null,
   "id": "96742035-6209-409e-8a7d-41280856168f",
   "metadata": {},
   "outputs": [],
   "source": []
  }
 ],
 "metadata": {
  "kernelspec": {
   "display_name": "Python 3 (ipykernel)",
   "language": "python",
   "name": "python3"
  },
  "language_info": {
   "codemirror_mode": {
    "name": "ipython",
    "version": 3
   },
   "file_extension": ".py",
   "mimetype": "text/x-python",
   "name": "python",
   "nbconvert_exporter": "python",
   "pygments_lexer": "ipython3",
   "version": "3.10.5"
  }
 },
 "nbformat": 4,
 "nbformat_minor": 5
}
