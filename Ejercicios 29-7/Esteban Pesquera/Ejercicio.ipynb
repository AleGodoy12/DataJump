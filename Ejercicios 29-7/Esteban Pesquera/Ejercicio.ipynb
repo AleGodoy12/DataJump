{
 "cells": [
  {
   "cell_type": "code",
   "execution_count": 4,
   "metadata": {},
   "outputs": [
    {
     "name": "stdout",
     "output_type": "stream",
     "text": [
      "0\n",
      "5\n",
      "10\n"
     ]
    }
   ],
   "source": [
    "#1.- Crea un bucle while que se ejecute hasta que x valga 15 con incrementos de 5\n",
    "\n",
    "num=0\n",
    "numero= 15\n",
    "while num < numero:\n",
    "    print(num)\n",
    "    num +=5\n",
    "\n"
   ]
  },
  {
   "cell_type": "code",
   "execution_count": 5,
   "metadata": {},
   "outputs": [
    {
     "name": "stdout",
     "output_type": "stream",
     "text": [
      "0\n",
      "-20\n",
      "-40\n",
      "-60\n",
      "-80\n",
      "-100\n"
     ]
    }
   ],
   "source": [
    "#2.- Crea un bucle while que se ejecute hasta que x valga -100 con decrementos de 20.\n",
    "numb = 0\n",
    "numero = -100\n",
    "\n",
    "while numb>= numero:\n",
    "    print(numb)\n",
    "    numb += -20"
   ]
  },
  {
   "cell_type": "code",
   "execution_count": 11,
   "metadata": {},
   "outputs": [
    {
     "name": "stdout",
     "output_type": "stream",
     "text": [
      "el valor del bucle es 7\n",
      "el valor del bucle es 6\n",
      "el valor del bucle es 5\n",
      "el valor del bucle es 4\n",
      "el valor del bucle es 3\n",
      "el valor del bucle es 2\n",
      "el valor del bucle es 1\n"
     ]
    }
   ],
   "source": [
    "#3.- Crea un bucle while que se ejecute hasta que x valga 0 con decrementos\n",
    "# de 1 y que muestre en cada ejecución esta frase\n",
    "# con el valor de ejecución correspondiente: 'El valor del bucle es 10'...\n",
    "\n",
    "numb= 7\n",
    "\n",
    "while numb > 0:\n",
    "    print (\"el valor del bucle es \" + str(numb))\n",
    "    numb -= 1"
   ]
  },
  {
   "cell_type": "code",
   "execution_count": 14,
   "metadata": {},
   "outputs": [
    {
     "name": "stdout",
     "output_type": "stream",
     "text": [
      "El color es: azul.\n",
      "El color es: rojo.\n",
      "El color es: verde.\n"
     ]
    }
   ],
   "source": [
    "#4.- Crea un bucle for que itere la siguiente tupla\n",
    "#  y muestre una frase como esta en cada iteración: 'El color es: ' + color + '.'\n",
    "\n",
    "lista = [\"azul\", \"rojo\", \"verde\"]\n",
    "\n",
    "for i in lista:\n",
    "    print (\"El color es: \" + i + \".\")"
   ]
  },
  {
   "cell_type": "code",
   "execution_count": null,
   "metadata": {},
   "outputs": [],
   "source": []
  }
 ],
 "metadata": {
  "kernelspec": {
   "display_name": "Python 3.10.5 64-bit",
   "language": "python",
   "name": "python3"
  },
  "language_info": {
   "codemirror_mode": {
    "name": "ipython",
    "version": 3
   },
   "file_extension": ".py",
   "mimetype": "text/x-python",
   "name": "python",
   "nbconvert_exporter": "python",
   "pygments_lexer": "ipython3",
   "version": "3.10.5"
  },
  "orig_nbformat": 4,
  "vscode": {
   "interpreter": {
    "hash": "98fa02a8c884382a90c52caa7e7b88891612be484f9b34d4c4e4bfd155aeec17"
   }
  }
 },
 "nbformat": 4,
 "nbformat_minor": 2
}
