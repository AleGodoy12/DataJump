{
 "cells": [
  {
   "cell_type": "code",
   "execution_count": 2,
   "id": "096f1ce4-1114-4bf0-8447-5c3dfcd7d387",
   "metadata": {},
   "outputs": [
    {
     "name": "stdout",
     "output_type": "stream",
     "text": [
      "15\n"
     ]
    }
   ],
   "source": [
    "numero = 0\n",
    "\n",
    "while (numero < 15):\n",
    "    numero += 5\n",
    "\n",
    "print(numero)"
   ]
  },
  {
   "cell_type": "code",
   "execution_count": 3,
   "id": "396a4206",
   "metadata": {},
   "outputs": [
    {
     "name": "stdout",
     "output_type": "stream",
     "text": [
      "-100\n"
     ]
    }
   ],
   "source": [
    "num = 0\n",
    "\n",
    "while (num > -100):\n",
    "    num -= 20\n",
    "\n",
    "print(num)"
   ]
  },
  {
   "cell_type": "code",
   "execution_count": 19,
   "id": "f6d24604",
   "metadata": {},
   "outputs": [
    {
     "name": "stdout",
     "output_type": "stream",
     "text": [
      "El valor del bucle es  9\n",
      "El valor del bucle es  8\n",
      "El valor del bucle es  7\n",
      "El valor del bucle es  6\n",
      "El valor del bucle es  5\n",
      "El valor del bucle es  4\n",
      "El valor del bucle es  3\n",
      "El valor del bucle es  2\n",
      "El valor del bucle es  1\n",
      "El valor del bucle es  0\n"
     ]
    }
   ],
   "source": [
    "\n",
    "\n",
    "i = int(input((\"numero\")))\n",
    "\n",
    "while( i != 0):\n",
    "    i -= 1\n",
    "    print(\"El valor del bucle es \", i)\n",
    "    \n"
   ]
  },
  {
   "cell_type": "code",
   "execution_count": 1,
   "id": "14d524b8",
   "metadata": {},
   "outputs": [
    {
     "name": "stdout",
     "output_type": "stream",
     "text": [
      "El color es: Rojo.\n",
      "El color es: Rosa.\n",
      "El color es: Azul.\n",
      "El color es: Verde.\n",
      "El color es: Amarillo.\n",
      "El color es: Turquesa.\n"
     ]
    }
   ],
   "source": [
    "colores = (\"Rojo\", \"Rosa\", \"Azul\", \"Verde\", \"Amarillo\", \"Turquesa\")\n",
    "\n",
    "for color in colores:\n",
    "    print ( 'El color es: ' + color + '.')"
   ]
  },
  {
   "cell_type": "code",
   "execution_count": 16,
   "id": "031a6371",
   "metadata": {},
   "outputs": [
    {
     "name": "stdout",
     "output_type": "stream",
     "text": [
      "0\n",
      "100\n",
      "200\n",
      "300\n",
      "400\n",
      "500\n",
      "600\n",
      "700\n"
     ]
    }
   ],
   "source": [
    "for i in range(7, 800, 100):\n",
    "    i -= 7\n",
    "    print(i)"
   ]
  }
 ],
 "metadata": {
  "kernelspec": {
   "display_name": "Python 3.10.5 64-bit",
   "language": "python",
   "name": "python3"
  },
  "language_info": {
   "codemirror_mode": {
    "name": "ipython",
    "version": 3
   },
   "file_extension": ".py",
   "mimetype": "text/x-python",
   "name": "python",
   "nbconvert_exporter": "python",
   "pygments_lexer": "ipython3",
   "version": "3.10.5"
  },
  "vscode": {
   "interpreter": {
    "hash": "98fa02a8c884382a90c52caa7e7b88891612be484f9b34d4c4e4bfd155aeec17"
   }
  }
 },
 "nbformat": 4,
 "nbformat_minor": 5
}
