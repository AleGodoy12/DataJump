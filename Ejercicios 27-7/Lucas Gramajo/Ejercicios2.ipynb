{
 "cells": [
  {
   "cell_type": "code",
   "execution_count": 7,
   "metadata": {},
   "outputs": [
    {
     "name": "stdout",
     "output_type": "stream",
     "text": [
      "2004\n",
      "2005\n",
      "2006\n",
      "2007\n",
      "2008\n",
      "2009\n",
      "2010\n",
      "2011\n",
      "2012\n",
      "2013\n",
      "2014\n",
      "2015\n",
      "2016\n",
      "2017\n",
      "2018\n",
      "2019\n",
      "2020\n",
      "2021\n",
      "2022\n"
     ]
    }
   ],
   "source": [
    "#1.- Escribir un programa que pregunte al usuario su edad y muestre por pantalla todos los años que ha cumplido (desde 1 hasta su edad).\n",
    "\n",
    "edad = int(input(\"Digame su edad\"))\n",
    "\n",
    "contador = 2022 - edad\n",
    "\n",
    "act = 2022\n",
    "\n",
    "\n",
    "while (contador < act):\n",
    "    contador += 1\n",
    "    print(contador)\n"
   ]
  },
  {
   "cell_type": "code",
   "execution_count": 5,
   "metadata": {},
   "outputs": [
    {
     "name": "stdout",
     "output_type": "stream",
     "text": [
      "10,9,8,7,6,5,4,3,2,1,0,"
     ]
    }
   ],
   "source": [
    "#Escribir un programa que pida al usuario un número entero positivo y muestre por pantalla la cuenta atrás desde ese número hasta cero separados por comas\n",
    "\n",
    "numerouser = int(input(\"Diga un numero entero positivo\"))\n",
    "\n",
    "cont = numerouser\n",
    "\n",
    "while (cont <= numerouser and cont >= 0):\n",
    "    print(cont, end=\",\")\n",
    "    cont -= 1"
   ]
  },
  {
   "cell_type": "code",
   "execution_count": 17,
   "metadata": {},
   "outputs": [
    {
     "name": "stdout",
     "output_type": "stream",
     "text": [
      "125.0\n",
      "150.0\n",
      "175.0\n"
     ]
    }
   ],
   "source": [
    "#3.- Escribir un programa que pregunte al usuario una cantidad a invertir, el interés anual y el número de años, y muestre por pantalla el capital obtenido en la inversión cada año que dura la inversión.\n",
    "\n",
    "inversion = float(input(\"Diga cuanto invirtio\"))\n",
    "\n",
    "interes = float(input(\"¿Cual es el interes anual?\"))\n",
    "\n",
    "añouser = float(input(\"Digame cuantos años invirtio esta cantidad\"))\n",
    "\n",
    "i = 1\n",
    "\n",
    "while (i <= añouser):\n",
    "    total = inversion * (interes/100) * i + inversion\n",
    "    print (total)\n",
    "    i += 1\n",
    "\n",
    "\n",
    "\n",
    "    \n"
   ]
  },
  {
   "cell_type": "code",
   "execution_count": 19,
   "metadata": {},
   "outputs": [
    {
     "name": "stdout",
     "output_type": "stream",
     "text": [
      "Es un n°primo\n"
     ]
    }
   ],
   "source": [
    "#4.- Escribir un programa que pida al usuario un número entero y muestre por pantalla si es un número primo o no.\n",
    "\n",
    "# num = float(input(\"Escriba un numero entero positivo\"))\n",
    "\n",
    "# if num % 2 == 0:\n",
    "#     print (\"No es primo\")\n",
    "# else: \n",
    "#     print(\"Es primo\")\n",
    "\n",
    "num = int(input('Ingresá un número entero'))\n",
    "if num > 1:\n",
    "    for i in range(1, num):\n",
    "        if (num == 2):\n",
    "            print('Es un n°primo')\n",
    "        elif (num % i) == 0:\n",
    "            print('No es un n° primo')\n",
    "            break\n",
    "        else:\n",
    "            print('Es un n° primo')"
   ]
  },
  {
   "cell_type": "code",
   "execution_count": 51,
   "metadata": {},
   "outputs": [
    {
     "name": "stdout",
     "output_type": "stream",
     "text": [
      "i,l,o,h,"
     ]
    }
   ],
   "source": [
    "#Escribir un programa que pida al usuario una palabra y luego muestre por pantalla una a una las letras de la palabra introducida empezando por la última.\n",
    "\n",
    "# palabra = str(input(\"Diga una palabra\"))\n",
    "\n",
    "# palabrauser = len(palabra)\n",
    "\n",
    "# reves = palabra[palabrauser: : 1]\n",
    "\n",
    "# i = -1\n",
    "\n",
    "# print(reves)\n",
    "palabra = input(\"escriba una palabra\")\n",
    "for letra in reversed(palabra):\n",
    "    print (letra, end=\",\")\n",
    "# for i in reves:\n",
    "#     i -=1\n",
    "#     print(i)\n",
    "\n",
    "# while (i < palabrauser):\n",
    "#     i -= 1\n",
    "#     print (i)\n"
   ]
  },
  {
   "cell_type": "code",
   "execution_count": 58,
   "metadata": {},
   "outputs": [
    {
     "name": "stdout",
     "output_type": "stream",
     "text": [
      "buenas\n",
      "buenas\n"
     ]
    }
   ],
   "source": [
    "frase = input(\"Ingrese una frase. Ingrese salir para terminar\")\n",
    "\n",
    "\n",
    "\n",
    "while (frase !=\"salir\"):\n",
    "    print(frase)\n",
    "    frase = input(\"Ingrese una frase. Ingrese salir para) terminar\")\n",
    "\n",
    "    \n"
   ]
  },
  {
   "cell_type": "code",
   "execution_count": 63,
   "metadata": {},
   "outputs": [
    {
     "name": "stdout",
     "output_type": "stream",
     "text": [
      "7850.0\n",
      "15700.0\n"
     ]
    }
   ],
   "source": [
    "#7.- Escribir una función que calcule el área de un círculo y otra que calcule el volumen de un cilindro usando la primera función\n",
    "#radio = input(\"Introduci un radio\")\n",
    "\n",
    "def area (parametro):\n",
    "    radio = 3.14 * parametro ** 2\n",
    "    return(radio)\n",
    "\n",
    "print(area(50))\n",
    "\n",
    "def volumen (altura, radio):\n",
    "    vol = 3.14 * altura * radio ** 2 \n",
    "    return(vol)\n",
    "\n",
    "print(volumen(50, 10))\n",
    "\n"
   ]
  },
  {
   "cell_type": "code",
   "execution_count": 4,
   "metadata": {},
   "outputs": [
    {
     "name": "stdout",
     "output_type": "stream",
     "text": [
      "120\n"
     ]
    }
   ],
   "source": [
    "\n",
    "def fact (numero):\n",
    "    i = 0 \n",
    "    facto = 1\n",
    "    while (i < numero):\n",
    "        i += 1\n",
    "        facto *= i\n",
    "    print(facto)\n",
    "\n",
    "fact(5)"
   ]
  },
  {
   "cell_type": "code",
   "execution_count": 22,
   "metadata": {},
   "outputs": [
    {
     "data": {
      "text/plain": [
       "15.625"
      ]
     },
     "execution_count": 22,
     "metadata": {},
     "output_type": "execute_result"
    }
   ],
   "source": [
    "def media (array):\n",
    "    prom= sum(array) / len(array)\n",
    "    return prom\n",
    "\n",
    "media([12, 10, 15, 10, 20, 13, 15, 30])"
   ]
  },
  {
   "cell_type": "code",
   "execution_count": 25,
   "metadata": {},
   "outputs": [
    {
     "name": "stdout",
     "output_type": "stream",
     "text": [
      "Hola amiga!\n"
     ]
    }
   ],
   "source": [
    "def saludo ():\n",
    "    print(\"Hola amiga!\")\n",
    "\n",
    "saludo()"
   ]
  },
  {
   "cell_type": "code",
   "execution_count": null,
   "metadata": {},
   "outputs": [],
   "source": [
    "edades = [72, 44, 55, 34, 18, 23, 22.]\n",
    "\n",
    "#cantidad = len(edad)\n",
    "\n",
    "suma = 0\n",
    "\n",
    "cont = 0\n",
    "\n",
    "if ( edades >= 20 and edades <= 60):\n",
    "    for edad in edades:\n",
    "        suma += edad\n",
    "        cont += 1\n",
    "    \n",
    "prom = suma / cont\n",
    "print(prom)\n",
    "        "
   ]
  },
  {
   "cell_type": "code",
   "execution_count": null,
   "metadata": {},
   "outputs": [],
   "source": [
    "edades = [72, 44, 55, 34, 18, 23, 22.]\n",
    "\n",
    "#cantidad = len(edad)\n",
    "\n",
    "suma = 0\n",
    "\n",
    "cont = 0\n",
    "\n",
    "if ( edades >= 20 and edades <= 60):\n",
    "    for edad in edades:\n",
    "        suma += edad\n",
    "        cont += 1\n",
    "    \n",
    "prom = suma / cont\n",
    "print(prom)\n",
    "        "
   ]
  }
 ],
 "metadata": {
  "kernelspec": {
   "display_name": "Python 3.10.5 64-bit",
   "language": "python",
   "name": "python3"
  },
  "language_info": {
   "codemirror_mode": {
    "name": "ipython",
    "version": 3
   },
   "file_extension": ".py",
   "mimetype": "text/x-python",
   "name": "python",
   "nbconvert_exporter": "python",
   "pygments_lexer": "ipython3",
   "version": "3.10.5"
  },
  "orig_nbformat": 4,
  "vscode": {
   "interpreter": {
    "hash": "98fa02a8c884382a90c52caa7e7b88891612be484f9b34d4c4e4bfd155aeec17"
   }
  }
 },
 "nbformat": 4,
 "nbformat_minor": 2
}
