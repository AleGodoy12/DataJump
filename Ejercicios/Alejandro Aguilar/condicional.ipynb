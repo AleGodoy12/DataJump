{
 "cells": [
  {
   "cell_type": "code",
   "execution_count": 3,
   "id": "6074975b-a610-4048-bec4-24a1c80e792e",
   "metadata": {},
   "outputs": [
    {
     "name": "stdin",
     "output_type": "stream",
     "text": [
      "Ingresar edad 5\n"
     ]
    },
    {
     "name": "stdout",
     "output_type": "stream",
     "text": [
      "Es menor\n"
     ]
    },
    {
     "name": "stdin",
     "output_type": "stream",
     "text": [
      "Introduzca su contraseña 55\n"
     ]
    },
    {
     "name": "stdout",
     "output_type": "stream",
     "text": [
      "Datos inválidos, vuelva a intentar\n"
     ]
    },
    {
     "name": "stdin",
     "output_type": "stream",
     "text": [
      "Ingrese un numero  12\n"
     ]
    },
    {
     "name": "stdout",
     "output_type": "stream",
     "text": [
      "Es par\n"
     ]
    },
    {
     "name": "stdin",
     "output_type": "stream",
     "text": [
      "Ingrese cuantos años tiene  18\n"
     ]
    },
    {
     "name": "stdout",
     "output_type": "stream",
     "text": [
      "El valor de la sala de juegos es de  5€\n"
     ]
    }
   ],
   "source": [
    "#1.- Escribir un programa que pregunte al usuario su edad y muestre por pantalla si es mayor de edad o no.\n",
    "edad = int(input(\"Ingresar edad\"))\n",
    "condicion = 18\n",
    "if (edad>=condicion):\n",
    "    print(\"Es mayor\")\n",
    "else: \n",
    "    print(\"Es menor\")\n",
    "#2.- Escribir un programa que almacene la cadena de caracteres contraseña en una variable, pregunte al usuario por la contraseña e imprima por pantalla si la contraseña introducida por el usuario coincide con la guardada en la variable sin tener en cuenta mayúsculas y minúsculas.\n",
    "contraseña = \"asd12345\"\n",
    "ingreso = input (\"Introduzca su contraseña\").lower()\n",
    "if (contraseña == ingreso):\n",
    "    print(\" Bienvenido..\")\n",
    "else:\n",
    "    print(\"Datos inválidos, vuelva a intentar\")\n",
    "    \n",
    "#3.- Escribir un programa que pida al usuario un número entero y muestre por pantalla si es par o impar.\n",
    "num = int(input(\"Ingrese un numero \"))\n",
    "if (num%2==0):\n",
    "    print(\"Es par\")\n",
    "else:\n",
    "    print(\"Es impar\")\n",
    "    \n",
    "#4.- Escribir un programa para una empresa que tiene salas de juegos para todas las edades y quiere calcular de forma automática el precio que debe cobrar a sus clientes por entrar. El programa debe preguntar al usuario la edad del cliente y mostrar el precio de la entrada. Si el cliente es menor de 4 años puede entrar gratis, si tiene entre 4 y 18 años debe pagar 5€ y si es mayor de 18 años, 10€.\n",
    "cond=18\n",
    "segundaCond=4\n",
    "precioMayor= \"10€\"\n",
    "precioMenor= \"5€\"\n",
    "precioInfantil= \"gratuito\"\n",
    "\n",
    "edad=int(input(\"Ingrese cuantos años tiene \"))\n",
    "if (edad>cond):\n",
    "    print(\"El valor de la sala de juegos es de \", precioMayor)\n",
    "else:\n",
    "    if (edad>=segundaCond):\n",
    "        print(\"El valor de la sala de juegos es de \", precioMenor)\n",
    "    else:\n",
    "        print(\"El valor de la sala de juegos es \", precioInfantil)\n",
    "\n",
    "#5.- Los alumnos de un curso se han dividido en dos grupos A y B de acuerdo al sexo y el nombre. El grupo A esta formado por las mujeres con un nombre anterior a la M y los hombres con un nombre posterior a la N y el grupo B por el resto. Escribir un programa que pregunte al usuario su nombre y sexo, y muestre por pantalla el grupo que le corresponde."
   ]
  },
  {
   "cell_type": "code",
   "execution_count": null,
   "id": "f2b4ea99-48f3-4eaf-8f56-b5c1afe033f5",
   "metadata": {},
   "outputs": [],
   "source": []
  }
 ],
 "metadata": {
  "kernelspec": {
   "display_name": "Python 3 (ipykernel)",
   "language": "python",
   "name": "python3"
  },
  "language_info": {
   "codemirror_mode": {
    "name": "ipython",
    "version": 3
   },
   "file_extension": ".py",
   "mimetype": "text/x-python",
   "name": "python",
   "nbconvert_exporter": "python",
   "pygments_lexer": "ipython3",
   "version": "3.10.5"
  }
 },
 "nbformat": 4,
 "nbformat_minor": 5
}
