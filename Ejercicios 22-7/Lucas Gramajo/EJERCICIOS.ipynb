{
 "cells": [
  {
   "cell_type": "code",
   "execution_count": 24,
   "metadata": {},
   "outputs": [
    {
     "name": "stdout",
     "output_type": "stream",
     "text": [
      "Hola mundo\n"
     ]
    }
   ],
   "source": [
    "#Escribir un programa que muestre por pantalla la cadena ¡Hola Mundo!.\n",
    "\n",
    "print(\"Hola mundo\")"
   ]
  },
  {
   "cell_type": "code",
   "execution_count": 25,
   "metadata": {},
   "outputs": [
    {
     "name": "stdout",
     "output_type": "stream",
     "text": [
      "Hola Mundo\n"
     ]
    }
   ],
   "source": [
    "#2.- Escribir un programa que almacene la cadena ¡Hola Mundo! en una variable y luego muestre por pantalla el contenido de la variable.\n",
    "\n",
    "\n",
    "saludo = \"Hola Mundo\"\n",
    "\n",
    "print (saludo)"
   ]
  },
  {
   "cell_type": "code",
   "execution_count": 7,
   "metadata": {},
   "outputs": [
    {
     "name": "stdout",
     "output_type": "stream",
     "text": [
      "Gracias por trabajar 8 horas tu pago es de 2400\n"
     ]
    }
   ],
   "source": [
    "#3.- Escribir un programa que pregunte al usuario por el número de horas trabajadas y el coste por hora. Después debe mostrar por pantalla la paga que le corresponde\n",
    "\n",
    "horasTrabajadas = int(input(\"Hola, indica tus horas trabajadas\"))\n",
    "\n",
    "sueldo = int(input(\"Diga el valor de cada hora\"))\n",
    "\n",
    "pago = horasTrabajadas * sueldo\n",
    "\n",
    "print(\"Gracias por trabajar\",horasTrabajadas, \"horas\",\"tu pago es de\",pago)"
   ]
  },
  {
   "cell_type": "code",
   "execution_count": 8,
   "metadata": {},
   "outputs": [
    {
     "name": "stdout",
     "output_type": "stream",
     "text": [
      "Tu índice de masa corporal es 510.42\n"
     ]
    }
   ],
   "source": [
    "#4.- Escribir un programa que pida al usuario su peso (en kg) y estatura (en metros), calcule el índice de masa corporal y lo almacene en una variable, y muestre por pantalla la frase Tu índice de masa corporal es <imc> donde <imc> es el índice de masa corporal calculado redondeado con dos decimales\n",
    "\n",
    "peso = float(input(\"Hola, ¿Cual es tu peso?\"))\n",
    "\n",
    "altura = float(input(\"¿Y tu altura?\"))\n",
    "\n",
    "imc = (altura * altura) / peso\n",
    "\n",
    "\n",
    "print ('Tu índice de masa corporal es', '{:.2f}'.format(imc))"
   ]
  },
  {
   "cell_type": "code",
   "execution_count": 11,
   "metadata": {},
   "outputs": [
    {
     "ename": "ValueError",
     "evalue": "could not convert string to float: ''",
     "output_type": "error",
     "traceback": [
      "\u001b[1;31m---------------------------------------------------------------------------\u001b[0m",
      "\u001b[1;31mValueError\u001b[0m                                Traceback (most recent call last)",
      "\u001b[1;32mc:\\Users\\Arbusta\\Desktop\\Python\\DataJump\\Ejercicios\\Lucas Gramajo\\EJERCICIOS.ipynb Celda 5\u001b[0m in \u001b[0;36m<cell line: 3>\u001b[1;34m()\u001b[0m\n\u001b[0;32m      <a href='vscode-notebook-cell:/c%3A/Users/Arbusta/Desktop/Python/DataJump/Ejercicios/Lucas%20Gramajo/EJERCICIOS.ipynb#ch0000004?line=0'>1</a>\u001b[0m \u001b[39m#5.- Una panadería vende barras de pan a 3.49€ cada una. El pan que no es el día tiene un descuento del 60%. Escribir un programa que comience leyendo el número de barras vendidas que no son del día. Después el programa debe mostrar el precio habitual de una barra de pan, el descuento que se le hace por no ser fresca y el coste final total\u001b[39;00m\n\u001b[1;32m----> <a href='vscode-notebook-cell:/c%3A/Users/Arbusta/Desktop/Python/DataJump/Ejercicios/Lucas%20Gramajo/EJERCICIOS.ipynb#ch0000004?line=2'>3</a>\u001b[0m cantidad \u001b[39m=\u001b[39m \u001b[39mfloat\u001b[39;49m(\u001b[39minput\u001b[39;49m(\u001b[39m\"\u001b[39;49m\u001b[39mHola, ¿Cuantas barras se vendieron hoy que NO son del dia?\u001b[39;49m\u001b[39m\"\u001b[39;49m))\n\u001b[0;32m      <a href='vscode-notebook-cell:/c%3A/Users/Arbusta/Desktop/Python/DataJump/Ejercicios/Lucas%20Gramajo/EJERCICIOS.ipynb#ch0000004?line=4'>5</a>\u001b[0m diaSi \u001b[39m=\u001b[39m \u001b[39m3.49\u001b[39m\n\u001b[0;32m      <a href='vscode-notebook-cell:/c%3A/Users/Arbusta/Desktop/Python/DataJump/Ejercicios/Lucas%20Gramajo/EJERCICIOS.ipynb#ch0000004?line=6'>7</a>\u001b[0m precio \u001b[39m=\u001b[39m cantidad \u001b[39m*\u001b[39m diaSi\n",
      "\u001b[1;31mValueError\u001b[0m: could not convert string to float: ''"
     ]
    }
   ],
   "source": [
    "#5.- Una panadería vende barras de pan a 3.49€ cada una. El pan que no es el día tiene un descuento del 60%. Escribir un programa que comience leyendo el número de barras vendidas que no son del día. Después el programa debe mostrar el precio habitual de una barra de pan, el descuento que se le hace por no ser fresca y el coste final total\n",
    "\n",
    "cantidad = float(input(\"Hola, ¿Cuantas barras se vendieron hoy que NO son del dia?\"))\n",
    "\n",
    "diaSi = 3.49\n",
    "\n",
    "precio = cantidad * diaSi\n",
    "\n",
    "descuento = precio*60/100\n",
    "\n",
    "valortotal = precio - descuento\n",
    "\n",
    "aprox1 = round(precio, 2)\n",
    "\n",
    "aprox2 = round(valortotal, 2)\n",
    "print (\"Su precio habitual es de\",aprox1 , \"Tenemos un descuento del 60%, lo que hace que ahora valga\",aprox2)\n"
   ]
  },
  {
   "cell_type": "code",
   "execution_count": null,
   "metadata": {},
   "outputs": [
    {
     "ename": "ValueError",
     "evalue": "could not convert string to float: ''",
     "output_type": "error",
     "traceback": [
      "\u001b[1;31m---------------------------------------------------------------------------\u001b[0m",
      "\u001b[1;31mValueError\u001b[0m                                Traceback (most recent call last)",
      "\u001b[1;32mc:\\Users\\Arbusta\\Desktop\\Python\\DataJump\\Ejercicios\\Lucas Gramajo\\EJERCICIOS.ipynb Celda 6\u001b[0m in \u001b[0;36m<cell line: 4>\u001b[1;34m()\u001b[0m\n\u001b[0;32m      <a href='vscode-notebook-cell:/c%3A/Users/Arbusta/Desktop/Python/DataJump/Ejercicios/Lucas%20Gramajo/EJERCICIOS.ipynb#ch0000005?line=0'>1</a>\u001b[0m \u001b[39m#Condicionales\u001b[39;00m\n\u001b[0;32m      <a href='vscode-notebook-cell:/c%3A/Users/Arbusta/Desktop/Python/DataJump/Ejercicios/Lucas%20Gramajo/EJERCICIOS.ipynb#ch0000005?line=1'>2</a>\u001b[0m \u001b[39m#1.- Escribir un programa que pregunte al usuario su edad y muestre por pantalla si es mayor de edad o no.\u001b[39;00m\n\u001b[1;32m----> <a href='vscode-notebook-cell:/c%3A/Users/Arbusta/Desktop/Python/DataJump/Ejercicios/Lucas%20Gramajo/EJERCICIOS.ipynb#ch0000005?line=3'>4</a>\u001b[0m edad \u001b[39m=\u001b[39m \u001b[39mfloat\u001b[39;49m(\u001b[39minput\u001b[39;49m(\u001b[39m\"\u001b[39;49m\u001b[39mHola, ¿puede decirme su edad?\u001b[39;49m\u001b[39m\"\u001b[39;49m))\n\u001b[0;32m      <a href='vscode-notebook-cell:/c%3A/Users/Arbusta/Desktop/Python/DataJump/Ejercicios/Lucas%20Gramajo/EJERCICIOS.ipynb#ch0000005?line=5'>6</a>\u001b[0m \u001b[39mif\u001b[39;00m (edad \u001b[39m>\u001b[39m\u001b[39m=\u001b[39m \u001b[39m18\u001b[39m):\n\u001b[0;32m      <a href='vscode-notebook-cell:/c%3A/Users/Arbusta/Desktop/Python/DataJump/Ejercicios/Lucas%20Gramajo/EJERCICIOS.ipynb#ch0000005?line=6'>7</a>\u001b[0m     \u001b[39mprint\u001b[39m (\u001b[39m\"\u001b[39m\u001b[39mSos mayor de edad\u001b[39m\u001b[39m\"\u001b[39m)\n",
      "\u001b[1;31mValueError\u001b[0m: could not convert string to float: ''"
     ]
    }
   ],
   "source": [
    "#Condicionales\n",
    "#1.- Escribir un programa que pregunte al usuario su edad y muestre por pantalla si es mayor de edad o no.\n",
    "\n",
    "edad = float(input(\"Hola, ¿puede decirme su edad?\"))\n",
    "\n",
    "if (edad >= 18):\n",
    "    print (\"Sos mayor de edad\")\n",
    "\n",
    "else:\n",
    "    print (\"No sos mayor\")\n"
   ]
  },
  {
   "cell_type": "code",
   "execution_count": null,
   "metadata": {},
   "outputs": [
    {
     "name": "stdout",
     "output_type": "stream",
     "text": [
      "Es correcto\n"
     ]
    }
   ],
   "source": [
    "#2.- Escribir un programa que almacene la cadena de caracteres contraseña en una variable, pregunte al usuario por la contraseña e imprima por pantalla si la contraseña introducida por el usuario coincide con la guardada en la variable sin tener en cuenta mayúsculas y minúsculas.\n",
    "\n",
    "usuario = input ((\"Introduzca su contraseña\"))\n",
    "\n",
    "usercontra = input ((\"Introduzca su contraseña denuevo\"))\n",
    "\n",
    "if (usuario == usercontra):\n",
    "    print (\"Es correcto\")\n",
    "else: \n",
    "    print (\"Es incorrecto\")\n",
    "\n"
   ]
  },
  {
   "cell_type": "code",
   "execution_count": null,
   "metadata": {},
   "outputs": [
    {
     "name": "stdout",
     "output_type": "stream",
     "text": [
      "No es par\n"
     ]
    }
   ],
   "source": [
    "#3.- Escribir un programa que pida al usuario un número entero y muestre por pantalla si es par o impar.\n",
    "\n",
    "usernumero = int(input(\"Ingrese un numero\"))\n",
    "\n",
    "if (usernumero %  2 == 0):\n",
    "    print(\"Es par!\")\n",
    "else:\n",
    "    print(\"No es par\")    \n",
    "    "
   ]
  },
  {
   "cell_type": "code",
   "execution_count": null,
   "metadata": {},
   "outputs": [
    {
     "name": "stdout",
     "output_type": "stream",
     "text": [
      "Pasa Gratis\n"
     ]
    }
   ],
   "source": [
    "#4.- Escribir un programa para una empresa que tiene salas de juegos para todas las edades y quiere calcular de forma automática el precio que debe cobrar a sus clientes por entrar. El programa debe preguntar al usuario la edad del cliente y mostrar el precio de la entrada. Si el cliente es menor de 4 años puede entrar gratis, si tiene entre 4 y 18 años debe pagar 5€ y si es mayor de 18 años, 10€.\n",
    "\n",
    "lista = [5, 6, 7, 8, 9, 10, 11, 12, 13, 14, 15, 16, 17, 18]\n",
    "\n",
    "edad = int(input(\"Hola, ¿cual es su edad?\"))\n",
    "\n",
    "if (edad in lista):\n",
    "    print (\"Debe pagar 5€\")\n",
    "    \n",
    "else: \n",
    "    if (edad <= 4):\n",
    "        print (\"Pasa Gratis\")\n",
    "    else: \n",
    "        print (\"Debe pagar 10€\")"
   ]
  },
  {
   "cell_type": "code",
   "execution_count": null,
   "metadata": {},
   "outputs": [
    {
     "name": "stdout",
     "output_type": "stream",
     "text": [
      "Grupo B\n"
     ]
    }
   ],
   "source": [
    "alfabetoM = ['a', 'b', 'c', 'd', 'e', 'f', 'g', 'h', 'i', 'j', 'k', 'l', 'A', 'B', 'C', 'D', 'E', 'F', 'G', 'H', 'I', 'J', 'K', 'L']\n",
    "\n",
    "\n",
    "alfabetoH = ['o', 'p', 'q', 'r', 's', 't', 'u', 'v', 'w', 'x', 'y', 'z','O', 'P', 'Q', 'R', 'S', 'T', 'U', 'V', 'W', 'X', 'Y', 'Z'\n",
    "]\n",
    "\n",
    "userSexo = (input(\"Introducir sexo, H o M\"))\n",
    "\n",
    "userNombre = input((\"Introducir Nombre\"))\n",
    "\n",
    "letra = userNombre[0]\n",
    "\n",
    "#El grupo A esta formado por las mujeres con un nombre anterior a la M y los hombres con un nombre posterior a la N\n",
    "\n",
    "if (userSexo == \"M\" and letra in alfabetoM):\n",
    "    print (\"Grupo A\")\n",
    "else: \n",
    "    if (userSexo == \"H\" and letra in alfabetoH):\n",
    "        print (\"Grupo A\")\n",
    "    else: \n",
    "        print (\"Grupo B\")\n",
    "\n"
   ]
  },
  {
   "cell_type": "code",
   "execution_count": null,
   "metadata": {},
   "outputs": [
    {
     "name": "stdout",
     "output_type": "stream",
     "text": [
      "tomatetomatetomatetomatetomatetomatetomatetomatetomatetomate\n"
     ]
    }
   ],
   "source": [
    "#Bucles\n",
    "\n",
    "#1.- Escribir un programa que pida al usuario una palabra y la muestre por pantalla 10 veces.\n",
    "\n",
    "palabra = input((\"Introduzca una palabra\"))\n",
    "\n",
    "repetir = palabra * 10\n",
    "\n",
    "print (repetir)"
   ]
  },
  {
   "cell_type": "code",
   "execution_count": null,
   "metadata": {},
   "outputs": [
    {
     "name": "stdout",
     "output_type": "stream",
     "text": [
      "1, 3, 5, 7, 9, "
     ]
    }
   ],
   "source": [
    "numeritousuario = int(input(\"Diga un numero entero positivo\"))\n",
    "\n",
    "numero = 0\n",
    "\n",
    "while (numero < numeritousuario ):\n",
    "    numero += 1\n",
    "    if numero % 2 == 1:\n",
    "        print(numero, end = \", \")"
   ]
  },
  {
   "cell_type": "code",
   "execution_count": null,
   "metadata": {},
   "outputs": [
    {
     "name": "stdout",
     "output_type": "stream",
     "text": [
      "1\n",
      "2\n",
      "3\n",
      "4\n",
      "5\n",
      "6\n",
      "7\n",
      "8\n",
      "9\n",
      "10\n"
     ]
    }
   ],
   "source": [
    "num1 = 1\n",
    "num2 = 0\n",
    "\n",
    "while (num2<10):\n",
    "    num2 += 1\n",
    "    resultado = num1 * num2\n",
    "    \n",
    "    print( resultado )"
   ]
  },
  {
   "cell_type": "code",
   "execution_count": null,
   "metadata": {},
   "outputs": [],
   "source": [
    "contraseña = \"mate\"\n",
    "\n",
    "conuser = input((\"Introduzca la contraseña\"))\n",
    "\n",
    "while contraseña != conuser:\n",
    "    conuser= input((\"Contraseña incorrecta, introduzca denuevo la contraseña\"))\n",
    "\n",
    "print (\"Contraseña correcta\")\n",
    "\n",
    "    "
   ]
  },
  {
   "cell_type": "code",
   "execution_count": null,
   "metadata": {},
   "outputs": [
    {
     "name": "stdout",
     "output_type": "stream",
     "text": [
      "2\n"
     ]
    }
   ],
   "source": [
    "from collections import Counter \n",
    "\n",
    "frase = str(input(\"Diga una frase\"))\n",
    "\n",
    "letra = str(input(\"Diga una letra\"))\n",
    "\n",
    "counter = Counter(frase)\n",
    "\n",
    "print(counter[letra])"
   ]
  },
  {
   "cell_type": "code",
   "execution_count": 15,
   "metadata": {},
   "outputs": [
    {
     "name": "stdout",
     "output_type": "stream",
     "text": [
      "10\n"
     ]
    }
   ],
   "source": []
  }
 ],
 "metadata": {
  "kernelspec": {
   "display_name": "Python 3.10.5 64-bit",
   "language": "python",
   "name": "python3"
  },
  "language_info": {
   "codemirror_mode": {
    "name": "ipython",
    "version": 3
   },
   "file_extension": ".py",
   "mimetype": "text/x-python",
   "name": "python",
   "nbconvert_exporter": "python",
   "pygments_lexer": "ipython3",
   "version": "3.10.5"
  },
  "orig_nbformat": 4,
  "vscode": {
   "interpreter": {
    "hash": "98fa02a8c884382a90c52caa7e7b88891612be484f9b34d4c4e4bfd155aeec17"
   }
  }
 },
 "nbformat": 4,
 "nbformat_minor": 2
}
